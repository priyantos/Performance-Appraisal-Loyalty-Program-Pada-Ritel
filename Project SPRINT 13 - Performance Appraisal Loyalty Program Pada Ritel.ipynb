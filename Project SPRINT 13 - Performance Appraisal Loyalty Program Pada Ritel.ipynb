{
  "cells": [
    {
      "cell_type": "markdown",
      "metadata": {
        "id": "rQqZY9f0DZ1y"
      },
      "source": [
        "# Performance Appraisal Loyalty Program Pada Ritel"
      ]
    },
    {
      "cell_type": "markdown",
      "metadata": {
        "id": "i3_CuKVGDZ10"
      },
      "source": [
        "# Pendahuluan <a id='intro'></a>\n",
        "\n",
        "Dalam era persaingan ketat di pasar ritel, pemahaman terhadap pola pembelian pelanggan menjadi krusial bagi kesuksesan perusahaan. Proyek ini bertujuan untuk menggali data pembelian dari sebuah jaringan toko dan mengevaluasi dampak keanggotaan dalam loyalty program  terhadap pola pembelian pelanggan. Pendekatan statistik akan digunakan untuk menguji hipotesis apakah terdapat perbedaan signifikan dalam rata-rata pembelian antara pelanggan yang terdaftar dalam loyalty program dan mereka yang tidak.\n",
        "\n",
        "Analisis ini diharapkan memberikan wawasan bagi manajemen perusahaan untuk merancang strategi pemasaran yang lebih efektif, menyasar pelanggan potensial, dan meningkatkan retensi pelanggan. Dengan memahami bagaimana loyalty program memengaruhi perilaku pembelian, perusahaan dapat mengoptimalkan alokasi sumber daya untuk meningkatkan kinerja penjualan dan keuntungan.\n",
        "\n",
        "Pendahuluan ini akan diikuti oleh serangkaian tahap analisis, termasuk pemrosesan data, eksplorasi data, pengujian hipotesis statistik, serta formulasi kesimpulan dan rekomendasi berdasarkan temuan analisis. Mari kita mulai dengan menyelidiki data yang tersedia dan membangun dasar untuk analisis mendalam.\n",
        "\n",
        "Latar belakang tujuan project\n",
        "\n",
        "1. **Siapa Pelanggannya**\n",
        "   - Manajer Proyek yang bertanggung jawab untuk Loyalty Program akan mengetahui siapa pelanggan yang terlibat dalam proyek tersebut.\n",
        "   \n",
        "\n",
        "2. **Siapa Pengguna yang dituju dari hasil akhir**\n",
        "   - Pelanggan yang memulai proyek. Dalam hasil akhir proyek, pelanggan yang menjadi target atau fokus utama dari program loyalitas akan ditentukan.\n",
        "   \n",
        "   \n",
        "3. **Tujuannya apa yang ingin dilakukan**\n",
        "   - Mengevaluasi hasil dari analisa pengenalan loyalty program\n",
        "   \n",
        "   \n",
        "4. **Apakah kita tertarik pada periode waktu tertentu? Atau kita sedang menyelidiki seluruh periode yang dicakup oleh data sumber ini?**\n",
        "   - Analisis mencakup seluruh periode yang tercakup dalam data sumber.\n",
        "   \n",
        "   \n",
        "5. **Presentasinya ditujukan untuk siapa?**\n",
        "   - Presentasi ditujukan untuk pelanggan yang memulai proyek.\n",
        "\n",
        "\n",
        "6. **Mengapa analisis ini diperlukan? Mengapa analisis ini spesifik?**\n",
        "   - Setelah diperkenalkannya loyalty program , penting untuk memahami apakah itu benar-benar menyebabkan pertumbuhan yang diharapkan dalam ukuran pembelian rata-rata dan jumlah item di keranjang. Analisa ini akan memberi tahu kita seberapa efektif program tersebut.\n",
        "   \n",
        "   \n",
        "7. **Apakah penelitian semacam ini pernah dilakukan sebelumnya?**\n",
        "   - Tidak ada penelitian serupa yang telah dilakukan sebelumnya. Solusi yang dikembangkan dalam proyek ini akan menjadi pendekatan baru.\n",
        "   \n",
        "\n",
        "# Tujuan <a id='GoalSet'></a>\n",
        "\n",
        "* Performance Appraisal untuk loyalty program. Kita akan menelaah seberapa efektif atau signifikan dalam penggunaan loyalty program terhadap proses bisnis.\n",
        "\n",
        "# Tahapan yang dilakukan<a id='StepbyStep'></a>\n",
        "\n",
        "Dalam Project ini ada 2 file csv. Memuat file data dan pelajari informasi umumnya.\n",
        "\n",
        "**kode_produk: `/datasets/product_codes_us.csv.`**\n",
        "\n",
        "**data_retail: `/datasets/retail_dataset_us.csv.`**\n",
        "\n",
        "Tahapan-tahapan yang akan dilakukan adalah sebagai berikut:\n",
        "\n",
        "**1. Melakukan analisis data eksploratif (EDA):Untuk memeriksa distribusi, nilai yang hilang serta keterlibatan data**\n",
        "   * Proses\n",
        "      - Memeriksa dataset yang ada, cek apakah ada nilai yang hilang󠀲󠀡?\n",
        "      - Memeriksa dan validasi distribusi data\n",
        "      - Membuat korelasi matriks\n",
        "      - Membuat histogram untuk melihat distribusi dan analisa lebih lanjut.\n",
        "         \n",
        "**2. Menguji Hipotesis**\n",
        "   * Maksud dan tujuannya : Menguji hipotesis bahwa ukuran pembelian rata-rata untuk member loyality program  lebih tinggi daripada yang non-member loyality program .\n",
        "   * Proses\n",
        "     - Memisahkan data pembelian antara member loyality program dan non-member loyality program.\n",
        "     - Melakukan uji statistik, seperti uji t atau uji Mann-Whitney (depend on data distribution), untuk membandingkan rata-rata  pembelian.\n",
        "     - Menganalisa hasil dan menentukan apakah ada perbedaan yang substansial.\n",
        "     \n",
        "**3. Memformulasikan dan Menguji Hipotesis Statistik**\n",
        "   * Maksud dan tujuannya: Menyusun hipotesis statistik berdasarkan data dari dataset dan menguji hipotesis tersebut.\n",
        "   * Proses\n",
        "     - Mengidentifikasi variabel yang akan diuji dan mengasumsikan yang mendasarinya.\n",
        "     - Menyusun hipotesis nol (H0) dan hipotesis alternatif (H1).\n",
        "     - Memilih tingkat signifikansi (umumnya 0,05).\n",
        "     - Mengunakan uji statistik yang sesuai untuk data.\n",
        "     - Menganalisis hasil dan mengambil keputusan apakah menerima atau menolak H0.\n",
        "     \n",
        "**4. Merumuskan Kesimpulan dan Rekomendasi:**\n",
        "   * Maksud dan tujuannya: Menarik kesimpulan dari hasil analisis dan menyusun rekomendasi berdasarkan temuan.\n",
        "   * Proses\n",
        "     - Meninjau hasil dari uji hipotesis dan analisis data lainnya.\n",
        "     - Memastikan terhadap temuan tersebut apakah konsisten dengan hipotesis atau tidak.\n",
        "     - Menjelaskan keterkaitan serta arti dari temuan tersebut.\n",
        "     - Menyajikan kesimpulan dan saran (rekomendasi).\n",
        "     \n",
        "**5. Mempresentasikan**\n",
        "   * Maksud dan tujuannya: Menyampaikan dan menyajikan dalam bentuk laporan hasil analisis dan temuan kepada pelanggan.\n",
        "   * Proses\n",
        "     - Mempersiapkan presentasi laporan dengan ringkas dan jelas.\n",
        "     - Menyertakan grafik, tabel, dan visualisasi data untuk mendukung temuan.\n",
        "     - Penyusunan materi dan menjelaskan metodologi yang digunakan dan interpretasi hasil.\n",
        "     - Memberikan rekomendasi berdasarkan temuan.\n",
        "     - Memberikan kesempatan untuk pertanyaan dan diskusi.\n",
        "     \n",
        "# Deskripsi dataset <a id='description'></a>\n",
        "**1. retail_dataset_us.csv:**\n",
        "   - `purchaseId:` ID pembelian yang unik.\n",
        "   - `item_ID:` ID unik untuk setiap item yang dibeli.\n",
        "   - `purchasedate:` Tanggal pembelian.\n",
        "   - `Quantity:` Jumlah item yang dibeli dalam pembelian tersebut.\n",
        "   - `CustomerID:` ID pelanggan yang unik.\n",
        "   - `ShopID:` ID toko tempat pembelian dilakukan.\n",
        "   - `loyalty_program:` Informasi apakah pelanggan adalah anggota program loyalitas (kita mungkin bisa memberi nilai \"Yes\" atau \"No\").\n",
        "   \n",
        "**2. product_codes_us.csv:**\n",
        "   - `productID:` ID unik untuk setiap produk.\n",
        "   - `price_per_one:` Harga per satu item dari produk tersebut."
      ]
    },
    {
      "cell_type": "markdown",
      "metadata": {
        "id": "6rZR-yrhDZ12"
      },
      "source": [
        "## Inisialisasi\n",
        "\n",
        "Mari kita muat library yang kita butuhkan."
      ]
    },
    {
      "cell_type": "code",
      "execution_count": null,
      "metadata": {
        "id": "HTl5BFApDZ12"
      },
      "outputs": [],
      "source": [
        "# list library yang digunakan\n",
        "import random\n",
        "import numpy as np\n",
        "import pandas as pd\n",
        "import seaborn as sns\n",
        "import matplotlib.pyplot as plt\n",
        "from scipy import stats as st\n",
        "from scipy.stats import ttest_ind\n",
        "from datetime import datetime, timedelta"
      ]
    },
    {
      "cell_type": "markdown",
      "metadata": {
        "id": "Tph0TyaFDZ14"
      },
      "source": [
        "## Memuat Dataset\n",
        "\n",
        "Mari kita masukkan dataset, berikut dataset yang akan kita analisa.\n",
        "Tahap ini bertujuan untuk memastikan bahwa tipe data untuk setiap kolomnya sudah benar dan tidak ada nilai yang hilang atau duplikat. Lakukan pra-pemrosesan data jika diperlukan."
      ]
    },
    {
      "cell_type": "code",
      "execution_count": null,
      "metadata": {
        "id": "6f1qS6bIDZ15"
      },
      "outputs": [],
      "source": [
        "# Isi dan variabel dataset\n",
        "kode_produk = pd.read_csv('/datasets/product_codes_us.csv')\n",
        "data_retail = pd.read_csv('/datasets/retail_dataset_us.csv')"
      ]
    },
    {
      "cell_type": "markdown",
      "metadata": {
        "id": "mrTMDmA9DZ16"
      },
      "source": [
        "## Tahapan Pengerjaan\n",
        "\n",
        "### Melakukan analisis data eksploratif (EDA--Exploratory Data Analysis)\n",
        "     Untuk memeriksa distribusi, nilai yang hilang serta keterlibatan data\n",
        "     \n",
        "   #### Memeriksa dataset yang ada, cek apakah ada nilai yang hilang󠀲󠀡?\n",
        "   **kode_produk Dataframe**"
      ]
    },
    {
      "cell_type": "code",
      "execution_count": null,
      "metadata": {
        "id": "TVBeRf2mDZ16",
        "outputId": "b1583107-f9e3-4138-98c3-89b574674a5c"
      },
      "outputs": [
        {
          "name": "stdout",
          "output_type": "stream",
          "text": [
            "<class 'pandas.core.frame.DataFrame'>\n",
            "RangeIndex: 3159 entries, 0 to 3158\n",
            "Data columns (total 1 columns):\n",
            " #   Column                   Non-Null Count  Dtype \n",
            "---  ------                   --------------  ----- \n",
            " 0   productID;price_per_one  3159 non-null   object\n",
            "dtypes: object(1)\n",
            "memory usage: 24.8+ KB\n"
          ]
        }
      ],
      "source": [
        "# Menampilkan informasi hasil dataset product_codes_us.csv\n",
        "kode_produk.info()"
      ]
    },
    {
      "cell_type": "markdown",
      "metadata": {
        "id": "WYV0jOW2DZ18"
      },
      "source": [
        "**<font color=\"green\">Temuan</font>**\n",
        "\n",
        "* Tidak ada nilai yang hilang untuk dataframe tersebut. Nilai entry 3159 dari 3159."
      ]
    },
    {
      "cell_type": "code",
      "execution_count": null,
      "metadata": {
        "id": "3jafVwtxDZ18",
        "outputId": "2766911f-b0af-4518-f431-55a613787646"
      },
      "outputs": [
        {
          "data": {
            "text/html": [
              "<div>\n",
              "<style scoped>\n",
              "    .dataframe tbody tr th:only-of-type {\n",
              "        vertical-align: middle;\n",
              "    }\n",
              "\n",
              "    .dataframe tbody tr th {\n",
              "        vertical-align: top;\n",
              "    }\n",
              "\n",
              "    .dataframe thead th {\n",
              "        text-align: right;\n",
              "    }\n",
              "</style>\n",
              "<table border=\"1\" class=\"dataframe\">\n",
              "  <thead>\n",
              "    <tr style=\"text-align: right;\">\n",
              "      <th></th>\n",
              "      <th>productID;price_per_one</th>\n",
              "    </tr>\n",
              "  </thead>\n",
              "  <tbody>\n",
              "    <tr>\n",
              "      <th>0</th>\n",
              "      <td>10002;0.85</td>\n",
              "    </tr>\n",
              "    <tr>\n",
              "      <th>1</th>\n",
              "      <td>10080;0.85</td>\n",
              "    </tr>\n",
              "    <tr>\n",
              "      <th>2</th>\n",
              "      <td>10120;0.21</td>\n",
              "    </tr>\n",
              "    <tr>\n",
              "      <th>3</th>\n",
              "      <td>10123C;0.65</td>\n",
              "    </tr>\n",
              "    <tr>\n",
              "      <th>4</th>\n",
              "      <td>10124A;0.42</td>\n",
              "    </tr>\n",
              "    <tr>\n",
              "      <th>...</th>\n",
              "      <td>...</td>\n",
              "    </tr>\n",
              "    <tr>\n",
              "      <th>3154</th>\n",
              "      <td>gift_0001_20;16.67</td>\n",
              "    </tr>\n",
              "    <tr>\n",
              "      <th>3155</th>\n",
              "      <td>gift_0001_30;25.0</td>\n",
              "    </tr>\n",
              "    <tr>\n",
              "      <th>3156</th>\n",
              "      <td>gift_0001_40;34.04</td>\n",
              "    </tr>\n",
              "    <tr>\n",
              "      <th>3157</th>\n",
              "      <td>gift_0001_50;42.55</td>\n",
              "    </tr>\n",
              "    <tr>\n",
              "      <th>3158</th>\n",
              "      <td>m;2.55</td>\n",
              "    </tr>\n",
              "  </tbody>\n",
              "</table>\n",
              "<p>3159 rows × 1 columns</p>\n",
              "</div>"
            ],
            "text/plain": [
              "     productID;price_per_one\n",
              "0                 10002;0.85\n",
              "1                 10080;0.85\n",
              "2                 10120;0.21\n",
              "3                10123C;0.65\n",
              "4                10124A;0.42\n",
              "...                      ...\n",
              "3154      gift_0001_20;16.67\n",
              "3155       gift_0001_30;25.0\n",
              "3156      gift_0001_40;34.04\n",
              "3157      gift_0001_50;42.55\n",
              "3158                  m;2.55\n",
              "\n",
              "[3159 rows x 1 columns]"
            ]
          },
          "execution_count": 4,
          "metadata": {},
          "output_type": "execute_result"
        }
      ],
      "source": [
        "# Memeriksa isi kode_produk\n",
        "kode_produk"
      ]
    },
    {
      "cell_type": "markdown",
      "metadata": {
        "id": "wO9ogpjwDZ19"
      },
      "source": [
        "**<font color=\"green\">Temuan</font>**\n",
        "\n",
        "* Dari isi dataframe tersebut, sepertinya kita harus memisahkan tanda `;` untuk membaca keseluruhan baris dan kolom untuk kejelasan arti dari nilai-nilai tersebut."
      ]
    },
    {
      "cell_type": "code",
      "execution_count": null,
      "metadata": {
        "id": "_MvEHBHUDZ19"
      },
      "outputs": [],
      "source": [
        "# Memisahkan kolom untuk masing-masing nilai yang dimiliki\n",
        "kode_produk[['productID', 'price_per_one']] = kode_produk['productID;price_per_one'].str.split(';', expand=True)\n",
        "\n",
        "# Menghapus kolom awal yang tidak terpisahkan\n",
        "kode_produk.drop('productID;price_per_one', axis=1, inplace=True)\n",
        "\n",
        "# Merubah nama-nama kolom ke bentuk yang sesuai\n",
        "kode_produk.rename(columns={'productID': 'product_id'}, inplace = True)"
      ]
    },
    {
      "cell_type": "code",
      "execution_count": null,
      "metadata": {
        "id": "oLby9YnfDZ19",
        "outputId": "9237f1d9-e233-412c-b370-e0beb2eb641b"
      },
      "outputs": [
        {
          "name": "stdout",
          "output_type": "stream",
          "text": [
            "<class 'pandas.core.frame.DataFrame'>\n",
            "RangeIndex: 3159 entries, 0 to 3158\n",
            "Data columns (total 2 columns):\n",
            " #   Column         Non-Null Count  Dtype \n",
            "---  ------         --------------  ----- \n",
            " 0   product_id     3159 non-null   object\n",
            " 1   price_per_one  3159 non-null   object\n",
            "dtypes: object(2)\n",
            "memory usage: 49.5+ KB\n"
          ]
        }
      ],
      "source": [
        "# Memeriksa kembali isi dari kode_produk\n",
        "kode_produk.info()"
      ]
    },
    {
      "cell_type": "markdown",
      "metadata": {
        "id": "FYGyRAaiDZ1-"
      },
      "source": [
        "**<font color=\"green\">Temuan</font>**\n",
        "\n",
        "* Kita mungkin akan mengganti tipe data `price_per_one` menjadi float, karena penerimaan harga bentuknya berupa desimal"
      ]
    },
    {
      "cell_type": "code",
      "execution_count": null,
      "metadata": {
        "id": "VXKtkEsNDZ1-"
      },
      "outputs": [],
      "source": [
        "# Merubah type data `price_per_one` menjadi float\n",
        "kode_produk['price_per_one'] = kode_produk['price_per_one'].astype('float')"
      ]
    },
    {
      "cell_type": "code",
      "execution_count": null,
      "metadata": {
        "id": "uvH4kbySDZ1-",
        "outputId": "9ac5ec83-ce27-463e-bec2-370958ef8407"
      },
      "outputs": [
        {
          "name": "stdout",
          "output_type": "stream",
          "text": [
            "<class 'pandas.core.frame.DataFrame'>\n",
            "RangeIndex: 3159 entries, 0 to 3158\n",
            "Data columns (total 2 columns):\n",
            " #   Column         Non-Null Count  Dtype  \n",
            "---  ------         --------------  -----  \n",
            " 0   product_id     3159 non-null   object \n",
            " 1   price_per_one  3159 non-null   float64\n",
            "dtypes: float64(1), object(1)\n",
            "memory usage: 49.5+ KB\n"
          ]
        }
      ],
      "source": [
        "# Memeriksa kembali informasi dari kode_produk\n",
        "kode_produk.info()"
      ]
    },
    {
      "cell_type": "code",
      "execution_count": null,
      "metadata": {
        "id": "NvQvVoCcDZ1_",
        "outputId": "6296be79-2d68-4e1a-f2ed-3a90ffd4de73"
      },
      "outputs": [
        {
          "data": {
            "text/html": [
              "<div>\n",
              "<style scoped>\n",
              "    .dataframe tbody tr th:only-of-type {\n",
              "        vertical-align: middle;\n",
              "    }\n",
              "\n",
              "    .dataframe tbody tr th {\n",
              "        vertical-align: top;\n",
              "    }\n",
              "\n",
              "    .dataframe thead th {\n",
              "        text-align: right;\n",
              "    }\n",
              "</style>\n",
              "<table border=\"1\" class=\"dataframe\">\n",
              "  <thead>\n",
              "    <tr style=\"text-align: right;\">\n",
              "      <th></th>\n",
              "      <th>product_id</th>\n",
              "      <th>price_per_one</th>\n",
              "    </tr>\n",
              "  </thead>\n",
              "  <tbody>\n",
              "    <tr>\n",
              "      <th>0</th>\n",
              "      <td>10002</td>\n",
              "      <td>0.85</td>\n",
              "    </tr>\n",
              "    <tr>\n",
              "      <th>1</th>\n",
              "      <td>10080</td>\n",
              "      <td>0.85</td>\n",
              "    </tr>\n",
              "    <tr>\n",
              "      <th>2</th>\n",
              "      <td>10120</td>\n",
              "      <td>0.21</td>\n",
              "    </tr>\n",
              "    <tr>\n",
              "      <th>3</th>\n",
              "      <td>10123C</td>\n",
              "      <td>0.65</td>\n",
              "    </tr>\n",
              "    <tr>\n",
              "      <th>4</th>\n",
              "      <td>10124A</td>\n",
              "      <td>0.42</td>\n",
              "    </tr>\n",
              "    <tr>\n",
              "      <th>...</th>\n",
              "      <td>...</td>\n",
              "      <td>...</td>\n",
              "    </tr>\n",
              "    <tr>\n",
              "      <th>3154</th>\n",
              "      <td>gift_0001_20</td>\n",
              "      <td>16.67</td>\n",
              "    </tr>\n",
              "    <tr>\n",
              "      <th>3155</th>\n",
              "      <td>gift_0001_30</td>\n",
              "      <td>25.00</td>\n",
              "    </tr>\n",
              "    <tr>\n",
              "      <th>3156</th>\n",
              "      <td>gift_0001_40</td>\n",
              "      <td>34.04</td>\n",
              "    </tr>\n",
              "    <tr>\n",
              "      <th>3157</th>\n",
              "      <td>gift_0001_50</td>\n",
              "      <td>42.55</td>\n",
              "    </tr>\n",
              "    <tr>\n",
              "      <th>3158</th>\n",
              "      <td>m</td>\n",
              "      <td>2.55</td>\n",
              "    </tr>\n",
              "  </tbody>\n",
              "</table>\n",
              "<p>3159 rows × 2 columns</p>\n",
              "</div>"
            ],
            "text/plain": [
              "        product_id  price_per_one\n",
              "0            10002           0.85\n",
              "1            10080           0.85\n",
              "2            10120           0.21\n",
              "3           10123C           0.65\n",
              "4           10124A           0.42\n",
              "...            ...            ...\n",
              "3154  gift_0001_20          16.67\n",
              "3155  gift_0001_30          25.00\n",
              "3156  gift_0001_40          34.04\n",
              "3157  gift_0001_50          42.55\n",
              "3158             m           2.55\n",
              "\n",
              "[3159 rows x 2 columns]"
            ]
          },
          "execution_count": 10,
          "metadata": {},
          "output_type": "execute_result"
        }
      ],
      "source": [
        "# Memeriksa kembali isi dari product_code\n",
        "kode_produk"
      ]
    },
    {
      "cell_type": "markdown",
      "metadata": {
        "id": "hNr6qyQnDZ1_"
      },
      "source": [
        "**<font color=\"green\">Temuan</font>**\n",
        "\n",
        "* `productid`: 10002 `price_per_one`: $0.85\n",
        "\n",
        "Ini mungkin mengacu pada produk tertentu dalam daftar barang yang dijual di ritel bahan bangunan Home World, dengan harga per item sebesar $0.85.\n",
        "\n",
        "* `productid`: gift_0001_20 `price_per_one`: $16.67\n",
        "\n",
        "Ini mungkin merupakan produk hadiah (gift) yang diidentifikasi sebagai \"gift_0001_20\", dengan harga per item sebesar $16.67."
      ]
    },
    {
      "cell_type": "markdown",
      "metadata": {
        "id": "XzIFhp8gDZ1_"
      },
      "source": [
        "**<font color=\"green\">Kesimpulan sementara</font>**\n",
        "\n",
        "* Tidak ada nilai yang hilang dari dataframe `product_code`. Deskripsi nilai yang ditemukan yaitu sebagai contoh:\n",
        "\n",
        "(`productid`: 10002 `price_per_one`: $0.85\n",
        "\n",
        "* Ini mungkin mengacu pada produk tertentu dalam daftar barang yang dijual di ritel bahan bangunan Home World, dengan harga per item sebesar $0.85.\n",
        "\n",
        "`productid`: gift_0001_20 `price_per_one`: $16.67\n",
        "\n",
        "* Ini mungkin merupakan produk hadiah (gift) yang diidentifikasi sebagai \"gift_0001_20\", dengan harga per item sebesar $16.67.)"
      ]
    },
    {
      "cell_type": "markdown",
      "metadata": {
        "id": "xBvZdtHWDZ2A"
      },
      "source": [
        "   **data_retail Dataframe**"
      ]
    },
    {
      "cell_type": "code",
      "execution_count": null,
      "metadata": {
        "id": "oNl-zaAoDZ2A",
        "outputId": "d98b44b6-0cef-4aef-d169-cfb0403c2d10"
      },
      "outputs": [
        {
          "name": "stdout",
          "output_type": "stream",
          "text": [
            "<class 'pandas.core.frame.DataFrame'>\n",
            "RangeIndex: 105335 entries, 0 to 105334\n",
            "Data columns (total 7 columns):\n",
            " #   Column           Non-Null Count   Dtype  \n",
            "---  ------           --------------   -----  \n",
            " 0   purchaseid       105335 non-null  object \n",
            " 1   item_ID          105335 non-null  object \n",
            " 2   Quantity         105335 non-null  int64  \n",
            " 3   purchasedate     105335 non-null  object \n",
            " 4   CustomerID       69125 non-null   float64\n",
            " 5   loyalty_program  105335 non-null  int64  \n",
            " 6   ShopID           105335 non-null  object \n",
            "dtypes: float64(1), int64(2), object(4)\n",
            "memory usage: 5.6+ MB\n"
          ]
        }
      ],
      "source": [
        "# Menampilkan informasi hasil dataset retail_dataset_us.csv\n",
        "data_retail.info()"
      ]
    },
    {
      "cell_type": "markdown",
      "metadata": {
        "id": "5gajzzzbDZ2A"
      },
      "source": [
        "**<font color=\"green\">Temuan</font>**\n",
        "\n",
        "* Terdapat nilai entry maksimal sebesar 105335. Terdapat nilai hilang untuk kolom `CustomerID` dengan jumlah 36.210."
      ]
    },
    {
      "cell_type": "code",
      "execution_count": null,
      "metadata": {
        "id": "kSxyDZCnDZ2A",
        "outputId": "a203323f-9b2c-4687-8745-b931576d9dad"
      },
      "outputs": [
        {
          "data": {
            "text/html": [
              "<div>\n",
              "<style scoped>\n",
              "    .dataframe tbody tr th:only-of-type {\n",
              "        vertical-align: middle;\n",
              "    }\n",
              "\n",
              "    .dataframe tbody tr th {\n",
              "        vertical-align: top;\n",
              "    }\n",
              "\n",
              "    .dataframe thead th {\n",
              "        text-align: right;\n",
              "    }\n",
              "</style>\n",
              "<table border=\"1\" class=\"dataframe\">\n",
              "  <thead>\n",
              "    <tr style=\"text-align: right;\">\n",
              "      <th></th>\n",
              "      <th>purchaseid</th>\n",
              "      <th>item_ID</th>\n",
              "      <th>Quantity</th>\n",
              "      <th>purchasedate</th>\n",
              "      <th>CustomerID</th>\n",
              "      <th>loyalty_program</th>\n",
              "      <th>ShopID</th>\n",
              "    </tr>\n",
              "  </thead>\n",
              "  <tbody>\n",
              "    <tr>\n",
              "      <th>0</th>\n",
              "      <td>538280</td>\n",
              "      <td>21873</td>\n",
              "      <td>11</td>\n",
              "      <td>2016-12-10 12:50:00</td>\n",
              "      <td>18427.0</td>\n",
              "      <td>0</td>\n",
              "      <td>Shop 3</td>\n",
              "    </tr>\n",
              "    <tr>\n",
              "      <th>1</th>\n",
              "      <td>538862</td>\n",
              "      <td>22195</td>\n",
              "      <td>0</td>\n",
              "      <td>2016-12-14 14:11:00</td>\n",
              "      <td>22389.0</td>\n",
              "      <td>1</td>\n",
              "      <td>Shop 2</td>\n",
              "    </tr>\n",
              "    <tr>\n",
              "      <th>2</th>\n",
              "      <td>538855</td>\n",
              "      <td>21239</td>\n",
              "      <td>7</td>\n",
              "      <td>2016-12-14 13:50:00</td>\n",
              "      <td>22182.0</td>\n",
              "      <td>1</td>\n",
              "      <td>Shop 3</td>\n",
              "    </tr>\n",
              "    <tr>\n",
              "      <th>3</th>\n",
              "      <td>543543</td>\n",
              "      <td>22271</td>\n",
              "      <td>0</td>\n",
              "      <td>2017-02-09 15:33:00</td>\n",
              "      <td>23522.0</td>\n",
              "      <td>1</td>\n",
              "      <td>Shop 28</td>\n",
              "    </tr>\n",
              "    <tr>\n",
              "      <th>4</th>\n",
              "      <td>543812</td>\n",
              "      <td>79321</td>\n",
              "      <td>0</td>\n",
              "      <td>2017-02-13 14:40:00</td>\n",
              "      <td>23151.0</td>\n",
              "      <td>1</td>\n",
              "      <td>Shop 28</td>\n",
              "    </tr>\n",
              "    <tr>\n",
              "      <th>...</th>\n",
              "      <td>...</td>\n",
              "      <td>...</td>\n",
              "      <td>...</td>\n",
              "      <td>...</td>\n",
              "      <td>...</td>\n",
              "      <td>...</td>\n",
              "      <td>...</td>\n",
              "    </tr>\n",
              "    <tr>\n",
              "      <th>105330</th>\n",
              "      <td>538566</td>\n",
              "      <td>21826</td>\n",
              "      <td>1</td>\n",
              "      <td>2016-12-13 11:21:00</td>\n",
              "      <td>NaN</td>\n",
              "      <td>0</td>\n",
              "      <td>Shop 0</td>\n",
              "    </tr>\n",
              "    <tr>\n",
              "      <th>105331</th>\n",
              "      <td>540247</td>\n",
              "      <td>21742</td>\n",
              "      <td>0</td>\n",
              "      <td>2017-01-05 15:56:00</td>\n",
              "      <td>21143.0</td>\n",
              "      <td>0</td>\n",
              "      <td>Shop 24</td>\n",
              "    </tr>\n",
              "    <tr>\n",
              "      <th>105332</th>\n",
              "      <td>538068</td>\n",
              "      <td>85048</td>\n",
              "      <td>1</td>\n",
              "      <td>2016-12-09 14:05:00</td>\n",
              "      <td>23657.0</td>\n",
              "      <td>1</td>\n",
              "      <td>Shop 16</td>\n",
              "    </tr>\n",
              "    <tr>\n",
              "      <th>105333</th>\n",
              "      <td>538207</td>\n",
              "      <td>22818</td>\n",
              "      <td>11</td>\n",
              "      <td>2016-12-10 11:33:00</td>\n",
              "      <td>18427.0</td>\n",
              "      <td>0</td>\n",
              "      <td>Shop 29</td>\n",
              "    </tr>\n",
              "    <tr>\n",
              "      <th>105334</th>\n",
              "      <td>543977</td>\n",
              "      <td>22384</td>\n",
              "      <td>9</td>\n",
              "      <td>2017-02-14 15:35:00</td>\n",
              "      <td>21294.0</td>\n",
              "      <td>0</td>\n",
              "      <td>Shop 19</td>\n",
              "    </tr>\n",
              "  </tbody>\n",
              "</table>\n",
              "<p>105335 rows × 7 columns</p>\n",
              "</div>"
            ],
            "text/plain": [
              "       purchaseid item_ID  Quantity         purchasedate  CustomerID  \\\n",
              "0          538280   21873        11  2016-12-10 12:50:00     18427.0   \n",
              "1          538862   22195         0  2016-12-14 14:11:00     22389.0   \n",
              "2          538855   21239         7  2016-12-14 13:50:00     22182.0   \n",
              "3          543543   22271         0  2017-02-09 15:33:00     23522.0   \n",
              "4          543812   79321         0  2017-02-13 14:40:00     23151.0   \n",
              "...           ...     ...       ...                  ...         ...   \n",
              "105330     538566   21826         1  2016-12-13 11:21:00         NaN   \n",
              "105331     540247   21742         0  2017-01-05 15:56:00     21143.0   \n",
              "105332     538068   85048         1  2016-12-09 14:05:00     23657.0   \n",
              "105333     538207   22818        11  2016-12-10 11:33:00     18427.0   \n",
              "105334     543977   22384         9  2017-02-14 15:35:00     21294.0   \n",
              "\n",
              "        loyalty_program   ShopID  \n",
              "0                     0   Shop 3  \n",
              "1                     1   Shop 2  \n",
              "2                     1   Shop 3  \n",
              "3                     1  Shop 28  \n",
              "4                     1  Shop 28  \n",
              "...                 ...      ...  \n",
              "105330                0   Shop 0  \n",
              "105331                0  Shop 24  \n",
              "105332                1  Shop 16  \n",
              "105333                0  Shop 29  \n",
              "105334                0  Shop 19  \n",
              "\n",
              "[105335 rows x 7 columns]"
            ]
          },
          "execution_count": 12,
          "metadata": {},
          "output_type": "execute_result"
        }
      ],
      "source": [
        "# Memeriksa kembali isi dari data_retail\n",
        "data_retail"
      ]
    },
    {
      "cell_type": "code",
      "execution_count": null,
      "metadata": {
        "id": "APJGE2rcDZ2B",
        "outputId": "b7fd2d79-b7ba-4d40-ed93-64ccb907ab39"
      },
      "outputs": [
        {
          "data": {
            "text/html": [
              "<div>\n",
              "<style scoped>\n",
              "    .dataframe tbody tr th:only-of-type {\n",
              "        vertical-align: middle;\n",
              "    }\n",
              "\n",
              "    .dataframe tbody tr th {\n",
              "        vertical-align: top;\n",
              "    }\n",
              "\n",
              "    .dataframe thead th {\n",
              "        text-align: right;\n",
              "    }\n",
              "</style>\n",
              "<table border=\"1\" class=\"dataframe\">\n",
              "  <thead>\n",
              "    <tr style=\"text-align: right;\">\n",
              "      <th></th>\n",
              "      <th>purchaseid</th>\n",
              "      <th>item_ID</th>\n",
              "      <th>Quantity</th>\n",
              "      <th>purchasedate</th>\n",
              "      <th>CustomerID</th>\n",
              "      <th>loyalty_program</th>\n",
              "      <th>ShopID</th>\n",
              "    </tr>\n",
              "  </thead>\n",
              "  <tbody>\n",
              "    <tr>\n",
              "      <th>0</th>\n",
              "      <td>538280</td>\n",
              "      <td>21873</td>\n",
              "      <td>11</td>\n",
              "      <td>2016-12-10 12:50:00</td>\n",
              "      <td>18427.0</td>\n",
              "      <td>0</td>\n",
              "      <td>Shop 3</td>\n",
              "    </tr>\n",
              "    <tr>\n",
              "      <th>1</th>\n",
              "      <td>538862</td>\n",
              "      <td>22195</td>\n",
              "      <td>0</td>\n",
              "      <td>2016-12-14 14:11:00</td>\n",
              "      <td>22389.0</td>\n",
              "      <td>1</td>\n",
              "      <td>Shop 2</td>\n",
              "    </tr>\n",
              "    <tr>\n",
              "      <th>2</th>\n",
              "      <td>538855</td>\n",
              "      <td>21239</td>\n",
              "      <td>7</td>\n",
              "      <td>2016-12-14 13:50:00</td>\n",
              "      <td>22182.0</td>\n",
              "      <td>1</td>\n",
              "      <td>Shop 3</td>\n",
              "    </tr>\n",
              "    <tr>\n",
              "      <th>3</th>\n",
              "      <td>543543</td>\n",
              "      <td>22271</td>\n",
              "      <td>0</td>\n",
              "      <td>2017-02-09 15:33:00</td>\n",
              "      <td>23522.0</td>\n",
              "      <td>1</td>\n",
              "      <td>Shop 28</td>\n",
              "    </tr>\n",
              "    <tr>\n",
              "      <th>4</th>\n",
              "      <td>543812</td>\n",
              "      <td>79321</td>\n",
              "      <td>0</td>\n",
              "      <td>2017-02-13 14:40:00</td>\n",
              "      <td>23151.0</td>\n",
              "      <td>1</td>\n",
              "      <td>Shop 28</td>\n",
              "    </tr>\n",
              "    <tr>\n",
              "      <th>5</th>\n",
              "      <td>538379</td>\n",
              "      <td>22965</td>\n",
              "      <td>0</td>\n",
              "      <td>2016-12-12 11:26:00</td>\n",
              "      <td>22805.0</td>\n",
              "      <td>1</td>\n",
              "      <td>Shop 20</td>\n",
              "    </tr>\n",
              "    <tr>\n",
              "      <th>6</th>\n",
              "      <td>540468</td>\n",
              "      <td>22189</td>\n",
              "      <td>0</td>\n",
              "      <td>2017-01-07 13:55:00</td>\n",
              "      <td>NaN</td>\n",
              "      <td>0</td>\n",
              "      <td>Shop 0</td>\n",
              "    </tr>\n",
              "    <tr>\n",
              "      <th>7</th>\n",
              "      <td>541424</td>\n",
              "      <td>79321</td>\n",
              "      <td>1</td>\n",
              "      <td>2017-01-17 17:57:00</td>\n",
              "      <td>NaN</td>\n",
              "      <td>0</td>\n",
              "      <td>Shop 0</td>\n",
              "    </tr>\n",
              "    <tr>\n",
              "      <th>8</th>\n",
              "      <td>538883</td>\n",
              "      <td>22891</td>\n",
              "      <td>0</td>\n",
              "      <td>2016-12-14 15:56:00</td>\n",
              "      <td>NaN</td>\n",
              "      <td>0</td>\n",
              "      <td>Shop 0</td>\n",
              "    </tr>\n",
              "    <tr>\n",
              "      <th>9</th>\n",
              "      <td>539501</td>\n",
              "      <td>22372</td>\n",
              "      <td>0</td>\n",
              "      <td>2016-12-20 11:08:00</td>\n",
              "      <td>22764.0</td>\n",
              "      <td>1</td>\n",
              "      <td>Shop 1</td>\n",
              "    </tr>\n",
              "    <tr>\n",
              "      <th>10</th>\n",
              "      <td>537795</td>\n",
              "      <td>82494L</td>\n",
              "      <td>5</td>\n",
              "      <td>2016-12-08 13:03:00</td>\n",
              "      <td>22892.0</td>\n",
              "      <td>1</td>\n",
              "      <td>Shop 6</td>\n",
              "    </tr>\n",
              "    <tr>\n",
              "      <th>11</th>\n",
              "      <td>541696</td>\n",
              "      <td>22197</td>\n",
              "      <td>4</td>\n",
              "      <td>2017-01-20 18:08:00</td>\n",
              "      <td>NaN</td>\n",
              "      <td>0</td>\n",
              "      <td>Shop 0</td>\n",
              "    </tr>\n",
              "    <tr>\n",
              "      <th>12</th>\n",
              "      <td>543647</td>\n",
              "      <td>21987</td>\n",
              "      <td>3</td>\n",
              "      <td>2017-02-10 19:49:00</td>\n",
              "      <td>18520.0</td>\n",
              "      <td>0</td>\n",
              "      <td>Shop 17</td>\n",
              "    </tr>\n",
              "    <tr>\n",
              "      <th>13</th>\n",
              "      <td>538533</td>\n",
              "      <td>22294</td>\n",
              "      <td>9</td>\n",
              "      <td>2016-12-13 10:31:00</td>\n",
              "      <td>20475.0</td>\n",
              "      <td>0</td>\n",
              "      <td>Shop 24</td>\n",
              "    </tr>\n",
              "    <tr>\n",
              "      <th>14</th>\n",
              "      <td>545180</td>\n",
              "      <td>22352</td>\n",
              "      <td>5</td>\n",
              "      <td>2017-02-28 14:42:00</td>\n",
              "      <td>18407.0</td>\n",
              "      <td>0</td>\n",
              "      <td>Shop 18</td>\n",
              "    </tr>\n",
              "    <tr>\n",
              "      <th>15</th>\n",
              "      <td>545053</td>\n",
              "      <td>22289</td>\n",
              "      <td>0</td>\n",
              "      <td>2017-02-27 12:41:00</td>\n",
              "      <td>23195.0</td>\n",
              "      <td>1</td>\n",
              "      <td>Shop 16</td>\n",
              "    </tr>\n",
              "    <tr>\n",
              "      <th>16</th>\n",
              "      <td>539744</td>\n",
              "      <td>22300</td>\n",
              "      <td>5</td>\n",
              "      <td>2016-12-21 15:21:00</td>\n",
              "      <td>NaN</td>\n",
              "      <td>0</td>\n",
              "      <td>Shop 0</td>\n",
              "    </tr>\n",
              "    <tr>\n",
              "      <th>17</th>\n",
              "      <td>541838</td>\n",
              "      <td>84949</td>\n",
              "      <td>11</td>\n",
              "      <td>2017-01-23 10:43:00</td>\n",
              "      <td>18595.0</td>\n",
              "      <td>0</td>\n",
              "      <td>Shop 14</td>\n",
              "    </tr>\n",
              "    <tr>\n",
              "      <th>18</th>\n",
              "      <td>543193</td>\n",
              "      <td>22839</td>\n",
              "      <td>3</td>\n",
              "      <td>2017-02-04 12:18:00</td>\n",
              "      <td>19404.0</td>\n",
              "      <td>0</td>\n",
              "      <td>Shop 13</td>\n",
              "    </tr>\n",
              "    <tr>\n",
              "      <th>19</th>\n",
              "      <td>545059</td>\n",
              "      <td>22336</td>\n",
              "      <td>0</td>\n",
              "      <td>2017-02-27 13:04:00</td>\n",
              "      <td>19836.0</td>\n",
              "      <td>0</td>\n",
              "      <td>Shop 30</td>\n",
              "    </tr>\n",
              "    <tr>\n",
              "      <th>20</th>\n",
              "      <td>543808</td>\n",
              "      <td>21094</td>\n",
              "      <td>3</td>\n",
              "      <td>2017-02-13 13:22:00</td>\n",
              "      <td>23133.0</td>\n",
              "      <td>1</td>\n",
              "      <td>Shop 8</td>\n",
              "    </tr>\n",
              "    <tr>\n",
              "      <th>21</th>\n",
              "      <td>544445</td>\n",
              "      <td>21925</td>\n",
              "      <td>0</td>\n",
              "      <td>2017-02-20 10:56:00</td>\n",
              "      <td>22425.0</td>\n",
              "      <td>1</td>\n",
              "      <td>Shop 24</td>\n",
              "    </tr>\n",
              "    <tr>\n",
              "      <th>22</th>\n",
              "      <td>540604</td>\n",
              "      <td>21871</td>\n",
              "      <td>11</td>\n",
              "      <td>2017-01-10 11:38:00</td>\n",
              "      <td>21005.0</td>\n",
              "      <td>0</td>\n",
              "      <td>Shop 1</td>\n",
              "    </tr>\n",
              "    <tr>\n",
              "      <th>23</th>\n",
              "      <td>538149</td>\n",
              "      <td>21154</td>\n",
              "      <td>0</td>\n",
              "      <td>2016-12-09 16:27:00</td>\n",
              "      <td>NaN</td>\n",
              "      <td>0</td>\n",
              "      <td>Shop 0</td>\n",
              "    </tr>\n",
              "    <tr>\n",
              "      <th>24</th>\n",
              "      <td>545154</td>\n",
              "      <td>22273</td>\n",
              "      <td>5</td>\n",
              "      <td>2017-02-28 13:09:00</td>\n",
              "      <td>18600.0</td>\n",
              "      <td>0</td>\n",
              "      <td>Shop 23</td>\n",
              "    </tr>\n",
              "    <tr>\n",
              "      <th>25</th>\n",
              "      <td>542151</td>\n",
              "      <td>20750</td>\n",
              "      <td>1</td>\n",
              "      <td>2017-01-26 10:30:00</td>\n",
              "      <td>19170.0</td>\n",
              "      <td>0</td>\n",
              "      <td>Shop 12</td>\n",
              "    </tr>\n",
              "    <tr>\n",
              "      <th>26</th>\n",
              "      <td>542228</td>\n",
              "      <td>21164</td>\n",
              "      <td>4</td>\n",
              "      <td>2017-01-26 13:37:00</td>\n",
              "      <td>18792.0</td>\n",
              "      <td>0</td>\n",
              "      <td>Shop 26</td>\n",
              "    </tr>\n",
              "    <tr>\n",
              "      <th>27</th>\n",
              "      <td>539958</td>\n",
              "      <td>84659A</td>\n",
              "      <td>3</td>\n",
              "      <td>2016-12-23 13:26:00</td>\n",
              "      <td>NaN</td>\n",
              "      <td>0</td>\n",
              "      <td>Shop 0</td>\n",
              "    </tr>\n",
              "    <tr>\n",
              "      <th>28</th>\n",
              "      <td>539451</td>\n",
              "      <td>22376</td>\n",
              "      <td>0</td>\n",
              "      <td>2016-12-17 16:59:00</td>\n",
              "      <td>NaN</td>\n",
              "      <td>0</td>\n",
              "      <td>Shop 0</td>\n",
              "    </tr>\n",
              "    <tr>\n",
              "      <th>29</th>\n",
              "      <td>541970</td>\n",
              "      <td>22720</td>\n",
              "      <td>5</td>\n",
              "      <td>2017-01-24 13:48:00</td>\n",
              "      <td>20858.0</td>\n",
              "      <td>0</td>\n",
              "      <td>Shop 4</td>\n",
              "    </tr>\n",
              "  </tbody>\n",
              "</table>\n",
              "</div>"
            ],
            "text/plain": [
              "   purchaseid item_ID  Quantity         purchasedate  CustomerID  \\\n",
              "0      538280   21873        11  2016-12-10 12:50:00     18427.0   \n",
              "1      538862   22195         0  2016-12-14 14:11:00     22389.0   \n",
              "2      538855   21239         7  2016-12-14 13:50:00     22182.0   \n",
              "3      543543   22271         0  2017-02-09 15:33:00     23522.0   \n",
              "4      543812   79321         0  2017-02-13 14:40:00     23151.0   \n",
              "5      538379   22965         0  2016-12-12 11:26:00     22805.0   \n",
              "6      540468   22189         0  2017-01-07 13:55:00         NaN   \n",
              "7      541424   79321         1  2017-01-17 17:57:00         NaN   \n",
              "8      538883   22891         0  2016-12-14 15:56:00         NaN   \n",
              "9      539501   22372         0  2016-12-20 11:08:00     22764.0   \n",
              "10     537795  82494L         5  2016-12-08 13:03:00     22892.0   \n",
              "11     541696   22197         4  2017-01-20 18:08:00         NaN   \n",
              "12     543647   21987         3  2017-02-10 19:49:00     18520.0   \n",
              "13     538533   22294         9  2016-12-13 10:31:00     20475.0   \n",
              "14     545180   22352         5  2017-02-28 14:42:00     18407.0   \n",
              "15     545053   22289         0  2017-02-27 12:41:00     23195.0   \n",
              "16     539744   22300         5  2016-12-21 15:21:00         NaN   \n",
              "17     541838   84949        11  2017-01-23 10:43:00     18595.0   \n",
              "18     543193   22839         3  2017-02-04 12:18:00     19404.0   \n",
              "19     545059   22336         0  2017-02-27 13:04:00     19836.0   \n",
              "20     543808   21094         3  2017-02-13 13:22:00     23133.0   \n",
              "21     544445   21925         0  2017-02-20 10:56:00     22425.0   \n",
              "22     540604   21871        11  2017-01-10 11:38:00     21005.0   \n",
              "23     538149   21154         0  2016-12-09 16:27:00         NaN   \n",
              "24     545154   22273         5  2017-02-28 13:09:00     18600.0   \n",
              "25     542151   20750         1  2017-01-26 10:30:00     19170.0   \n",
              "26     542228   21164         4  2017-01-26 13:37:00     18792.0   \n",
              "27     539958  84659A         3  2016-12-23 13:26:00         NaN   \n",
              "28     539451   22376         0  2016-12-17 16:59:00         NaN   \n",
              "29     541970   22720         5  2017-01-24 13:48:00     20858.0   \n",
              "\n",
              "    loyalty_program   ShopID  \n",
              "0                 0   Shop 3  \n",
              "1                 1   Shop 2  \n",
              "2                 1   Shop 3  \n",
              "3                 1  Shop 28  \n",
              "4                 1  Shop 28  \n",
              "5                 1  Shop 20  \n",
              "6                 0   Shop 0  \n",
              "7                 0   Shop 0  \n",
              "8                 0   Shop 0  \n",
              "9                 1   Shop 1  \n",
              "10                1   Shop 6  \n",
              "11                0   Shop 0  \n",
              "12                0  Shop 17  \n",
              "13                0  Shop 24  \n",
              "14                0  Shop 18  \n",
              "15                1  Shop 16  \n",
              "16                0   Shop 0  \n",
              "17                0  Shop 14  \n",
              "18                0  Shop 13  \n",
              "19                0  Shop 30  \n",
              "20                1   Shop 8  \n",
              "21                1  Shop 24  \n",
              "22                0   Shop 1  \n",
              "23                0   Shop 0  \n",
              "24                0  Shop 23  \n",
              "25                0  Shop 12  \n",
              "26                0  Shop 26  \n",
              "27                0   Shop 0  \n",
              "28                0   Shop 0  \n",
              "29                0   Shop 4  "
            ]
          },
          "execution_count": 13,
          "metadata": {},
          "output_type": "execute_result"
        }
      ],
      "source": [
        "# Memeriksa baris atas dataframe\n",
        "data_retail.head(30)"
      ]
    },
    {
      "cell_type": "code",
      "execution_count": null,
      "metadata": {
        "id": "TjMhUAEtDZ2B",
        "outputId": "c8e77fc8-69f4-4f75-ab08-3fb9af3471e2"
      },
      "outputs": [
        {
          "data": {
            "text/html": [
              "<div>\n",
              "<style scoped>\n",
              "    .dataframe tbody tr th:only-of-type {\n",
              "        vertical-align: middle;\n",
              "    }\n",
              "\n",
              "    .dataframe tbody tr th {\n",
              "        vertical-align: top;\n",
              "    }\n",
              "\n",
              "    .dataframe thead th {\n",
              "        text-align: right;\n",
              "    }\n",
              "</style>\n",
              "<table border=\"1\" class=\"dataframe\">\n",
              "  <thead>\n",
              "    <tr style=\"text-align: right;\">\n",
              "      <th></th>\n",
              "      <th>purchaseid</th>\n",
              "      <th>item_ID</th>\n",
              "      <th>Quantity</th>\n",
              "      <th>purchasedate</th>\n",
              "      <th>CustomerID</th>\n",
              "      <th>loyalty_program</th>\n",
              "      <th>ShopID</th>\n",
              "    </tr>\n",
              "  </thead>\n",
              "  <tbody>\n",
              "    <tr>\n",
              "      <th>105305</th>\n",
              "      <td>543309</td>\n",
              "      <td>22919</td>\n",
              "      <td>0</td>\n",
              "      <td>2017-02-07 12:05:00</td>\n",
              "      <td>23797.0</td>\n",
              "      <td>1</td>\n",
              "      <td>Shop 16</td>\n",
              "    </tr>\n",
              "    <tr>\n",
              "      <th>105306</th>\n",
              "      <td>538992</td>\n",
              "      <td>22112</td>\n",
              "      <td>4</td>\n",
              "      <td>2016-12-15 11:56:00</td>\n",
              "      <td>21629.0</td>\n",
              "      <td>0</td>\n",
              "      <td>Shop 21</td>\n",
              "    </tr>\n",
              "    <tr>\n",
              "      <th>105307</th>\n",
              "      <td>539766</td>\n",
              "      <td>22572</td>\n",
              "      <td>0</td>\n",
              "      <td>2016-12-22 11:11:00</td>\n",
              "      <td>19771.0</td>\n",
              "      <td>0</td>\n",
              "      <td>Shop 26</td>\n",
              "    </tr>\n",
              "    <tr>\n",
              "      <th>105308</th>\n",
              "      <td>538370</td>\n",
              "      <td>22314</td>\n",
              "      <td>1</td>\n",
              "      <td>2016-12-12 11:06:00</td>\n",
              "      <td>22602.0</td>\n",
              "      <td>1</td>\n",
              "      <td>Shop 11</td>\n",
              "    </tr>\n",
              "    <tr>\n",
              "      <th>105309</th>\n",
              "      <td>541493</td>\n",
              "      <td>22110</td>\n",
              "      <td>2</td>\n",
              "      <td>2017-01-18 14:29:00</td>\n",
              "      <td>NaN</td>\n",
              "      <td>0</td>\n",
              "      <td>Shop 0</td>\n",
              "    </tr>\n",
              "    <tr>\n",
              "      <th>105310</th>\n",
              "      <td>543815</td>\n",
              "      <td>21123</td>\n",
              "      <td>1</td>\n",
              "      <td>2017-02-13 15:18:00</td>\n",
              "      <td>22934.0</td>\n",
              "      <td>1</td>\n",
              "      <td>Shop 29</td>\n",
              "    </tr>\n",
              "    <tr>\n",
              "      <th>105311</th>\n",
              "      <td>538884</td>\n",
              "      <td>21166</td>\n",
              "      <td>0</td>\n",
              "      <td>2016-12-14 15:56:00</td>\n",
              "      <td>NaN</td>\n",
              "      <td>0</td>\n",
              "      <td>Shop 0</td>\n",
              "    </tr>\n",
              "    <tr>\n",
              "      <th>105312</th>\n",
              "      <td>539750</td>\n",
              "      <td>22734</td>\n",
              "      <td>20</td>\n",
              "      <td>2016-12-21 15:40:00</td>\n",
              "      <td>NaN</td>\n",
              "      <td>0</td>\n",
              "      <td>Shop 0</td>\n",
              "    </tr>\n",
              "    <tr>\n",
              "      <th>105313</th>\n",
              "      <td>536790</td>\n",
              "      <td>82494L</td>\n",
              "      <td>5</td>\n",
              "      <td>2016-12-02 15:26:00</td>\n",
              "      <td>23529.0</td>\n",
              "      <td>1</td>\n",
              "      <td>Shop 30</td>\n",
              "    </tr>\n",
              "    <tr>\n",
              "      <th>105314</th>\n",
              "      <td>538073</td>\n",
              "      <td>22439</td>\n",
              "      <td>0</td>\n",
              "      <td>2016-12-09 14:10:00</td>\n",
              "      <td>23495.0</td>\n",
              "      <td>1</td>\n",
              "      <td>Shop 22</td>\n",
              "    </tr>\n",
              "    <tr>\n",
              "      <th>105315</th>\n",
              "      <td>543306</td>\n",
              "      <td>22898</td>\n",
              "      <td>0</td>\n",
              "      <td>2017-02-07 11:56:00</td>\n",
              "      <td>22365.0</td>\n",
              "      <td>1</td>\n",
              "      <td>Shop 18</td>\n",
              "    </tr>\n",
              "    <tr>\n",
              "      <th>105316</th>\n",
              "      <td>543013</td>\n",
              "      <td>22266</td>\n",
              "      <td>0</td>\n",
              "      <td>2017-02-02 13:35:00</td>\n",
              "      <td>NaN</td>\n",
              "      <td>0</td>\n",
              "      <td>Shop 0</td>\n",
              "    </tr>\n",
              "    <tr>\n",
              "      <th>105317</th>\n",
              "      <td>537434</td>\n",
              "      <td>84536A</td>\n",
              "      <td>5</td>\n",
              "      <td>2016-12-06 16:57:00</td>\n",
              "      <td>NaN</td>\n",
              "      <td>0</td>\n",
              "      <td>Shop 0</td>\n",
              "    </tr>\n",
              "    <tr>\n",
              "      <th>105318</th>\n",
              "      <td>544186</td>\n",
              "      <td>22469</td>\n",
              "      <td>3</td>\n",
              "      <td>2017-02-16 15:56:00</td>\n",
              "      <td>NaN</td>\n",
              "      <td>0</td>\n",
              "      <td>Shop 0</td>\n",
              "    </tr>\n",
              "    <tr>\n",
              "      <th>105319</th>\n",
              "      <td>545045</td>\n",
              "      <td>22250</td>\n",
              "      <td>4</td>\n",
              "      <td>2017-02-27 11:40:00</td>\n",
              "      <td>21387.0</td>\n",
              "      <td>0</td>\n",
              "      <td>Shop 15</td>\n",
              "    </tr>\n",
              "    <tr>\n",
              "      <th>105320</th>\n",
              "      <td>539840</td>\n",
              "      <td>21126</td>\n",
              "      <td>11</td>\n",
              "      <td>2016-12-22 14:28:00</td>\n",
              "      <td>18062.0</td>\n",
              "      <td>0</td>\n",
              "      <td>Shop 11</td>\n",
              "    </tr>\n",
              "    <tr>\n",
              "      <th>105321</th>\n",
              "      <td>539750</td>\n",
              "      <td>22737</td>\n",
              "      <td>3</td>\n",
              "      <td>2016-12-21 15:40:00</td>\n",
              "      <td>NaN</td>\n",
              "      <td>0</td>\n",
              "      <td>Shop 0</td>\n",
              "    </tr>\n",
              "    <tr>\n",
              "      <th>105322</th>\n",
              "      <td>541421</td>\n",
              "      <td>22600</td>\n",
              "      <td>2</td>\n",
              "      <td>2017-01-17 17:44:00</td>\n",
              "      <td>NaN</td>\n",
              "      <td>0</td>\n",
              "      <td>Shop 0</td>\n",
              "    </tr>\n",
              "    <tr>\n",
              "      <th>105323</th>\n",
              "      <td>539453</td>\n",
              "      <td>84032A</td>\n",
              "      <td>4</td>\n",
              "      <td>2016-12-17 17:08:00</td>\n",
              "      <td>NaN</td>\n",
              "      <td>0</td>\n",
              "      <td>Shop 0</td>\n",
              "    </tr>\n",
              "    <tr>\n",
              "      <th>105324</th>\n",
              "      <td>545216</td>\n",
              "      <td>21257</td>\n",
              "      <td>1</td>\n",
              "      <td>2017-02-28 16:50:00</td>\n",
              "      <td>NaN</td>\n",
              "      <td>0</td>\n",
              "      <td>Shop 0</td>\n",
              "    </tr>\n",
              "    <tr>\n",
              "      <th>105325</th>\n",
              "      <td>536982</td>\n",
              "      <td>20719</td>\n",
              "      <td>69</td>\n",
              "      <td>2016-12-03 14:27:00</td>\n",
              "      <td>NaN</td>\n",
              "      <td>0</td>\n",
              "      <td>Shop 0</td>\n",
              "    </tr>\n",
              "    <tr>\n",
              "      <th>105326</th>\n",
              "      <td>540681</td>\n",
              "      <td>22227</td>\n",
              "      <td>1</td>\n",
              "      <td>2017-01-10 16:25:00</td>\n",
              "      <td>NaN</td>\n",
              "      <td>0</td>\n",
              "      <td>Shop 0</td>\n",
              "    </tr>\n",
              "    <tr>\n",
              "      <th>105327</th>\n",
              "      <td>538349</td>\n",
              "      <td>22625</td>\n",
              "      <td>0</td>\n",
              "      <td>2016-12-10 14:59:00</td>\n",
              "      <td>NaN</td>\n",
              "      <td>0</td>\n",
              "      <td>Shop 0</td>\n",
              "    </tr>\n",
              "    <tr>\n",
              "      <th>105328</th>\n",
              "      <td>537886</td>\n",
              "      <td>22158</td>\n",
              "      <td>7</td>\n",
              "      <td>2016-12-09 09:49:00</td>\n",
              "      <td>21339.0</td>\n",
              "      <td>0</td>\n",
              "      <td>Shop 13</td>\n",
              "    </tr>\n",
              "    <tr>\n",
              "      <th>105329</th>\n",
              "      <td>540154</td>\n",
              "      <td>22134</td>\n",
              "      <td>3</td>\n",
              "      <td>2017-01-05 11:30:00</td>\n",
              "      <td>NaN</td>\n",
              "      <td>0</td>\n",
              "      <td>Shop 0</td>\n",
              "    </tr>\n",
              "    <tr>\n",
              "      <th>105330</th>\n",
              "      <td>538566</td>\n",
              "      <td>21826</td>\n",
              "      <td>1</td>\n",
              "      <td>2016-12-13 11:21:00</td>\n",
              "      <td>NaN</td>\n",
              "      <td>0</td>\n",
              "      <td>Shop 0</td>\n",
              "    </tr>\n",
              "    <tr>\n",
              "      <th>105331</th>\n",
              "      <td>540247</td>\n",
              "      <td>21742</td>\n",
              "      <td>0</td>\n",
              "      <td>2017-01-05 15:56:00</td>\n",
              "      <td>21143.0</td>\n",
              "      <td>0</td>\n",
              "      <td>Shop 24</td>\n",
              "    </tr>\n",
              "    <tr>\n",
              "      <th>105332</th>\n",
              "      <td>538068</td>\n",
              "      <td>85048</td>\n",
              "      <td>1</td>\n",
              "      <td>2016-12-09 14:05:00</td>\n",
              "      <td>23657.0</td>\n",
              "      <td>1</td>\n",
              "      <td>Shop 16</td>\n",
              "    </tr>\n",
              "    <tr>\n",
              "      <th>105333</th>\n",
              "      <td>538207</td>\n",
              "      <td>22818</td>\n",
              "      <td>11</td>\n",
              "      <td>2016-12-10 11:33:00</td>\n",
              "      <td>18427.0</td>\n",
              "      <td>0</td>\n",
              "      <td>Shop 29</td>\n",
              "    </tr>\n",
              "    <tr>\n",
              "      <th>105334</th>\n",
              "      <td>543977</td>\n",
              "      <td>22384</td>\n",
              "      <td>9</td>\n",
              "      <td>2017-02-14 15:35:00</td>\n",
              "      <td>21294.0</td>\n",
              "      <td>0</td>\n",
              "      <td>Shop 19</td>\n",
              "    </tr>\n",
              "  </tbody>\n",
              "</table>\n",
              "</div>"
            ],
            "text/plain": [
              "       purchaseid item_ID  Quantity         purchasedate  CustomerID  \\\n",
              "105305     543309   22919         0  2017-02-07 12:05:00     23797.0   \n",
              "105306     538992   22112         4  2016-12-15 11:56:00     21629.0   \n",
              "105307     539766   22572         0  2016-12-22 11:11:00     19771.0   \n",
              "105308     538370   22314         1  2016-12-12 11:06:00     22602.0   \n",
              "105309     541493   22110         2  2017-01-18 14:29:00         NaN   \n",
              "105310     543815   21123         1  2017-02-13 15:18:00     22934.0   \n",
              "105311     538884   21166         0  2016-12-14 15:56:00         NaN   \n",
              "105312     539750   22734        20  2016-12-21 15:40:00         NaN   \n",
              "105313     536790  82494L         5  2016-12-02 15:26:00     23529.0   \n",
              "105314     538073   22439         0  2016-12-09 14:10:00     23495.0   \n",
              "105315     543306   22898         0  2017-02-07 11:56:00     22365.0   \n",
              "105316     543013   22266         0  2017-02-02 13:35:00         NaN   \n",
              "105317     537434  84536A         5  2016-12-06 16:57:00         NaN   \n",
              "105318     544186   22469         3  2017-02-16 15:56:00         NaN   \n",
              "105319     545045   22250         4  2017-02-27 11:40:00     21387.0   \n",
              "105320     539840   21126        11  2016-12-22 14:28:00     18062.0   \n",
              "105321     539750   22737         3  2016-12-21 15:40:00         NaN   \n",
              "105322     541421   22600         2  2017-01-17 17:44:00         NaN   \n",
              "105323     539453  84032A         4  2016-12-17 17:08:00         NaN   \n",
              "105324     545216   21257         1  2017-02-28 16:50:00         NaN   \n",
              "105325     536982   20719        69  2016-12-03 14:27:00         NaN   \n",
              "105326     540681   22227         1  2017-01-10 16:25:00         NaN   \n",
              "105327     538349   22625         0  2016-12-10 14:59:00         NaN   \n",
              "105328     537886   22158         7  2016-12-09 09:49:00     21339.0   \n",
              "105329     540154   22134         3  2017-01-05 11:30:00         NaN   \n",
              "105330     538566   21826         1  2016-12-13 11:21:00         NaN   \n",
              "105331     540247   21742         0  2017-01-05 15:56:00     21143.0   \n",
              "105332     538068   85048         1  2016-12-09 14:05:00     23657.0   \n",
              "105333     538207   22818        11  2016-12-10 11:33:00     18427.0   \n",
              "105334     543977   22384         9  2017-02-14 15:35:00     21294.0   \n",
              "\n",
              "        loyalty_program   ShopID  \n",
              "105305                1  Shop 16  \n",
              "105306                0  Shop 21  \n",
              "105307                0  Shop 26  \n",
              "105308                1  Shop 11  \n",
              "105309                0   Shop 0  \n",
              "105310                1  Shop 29  \n",
              "105311                0   Shop 0  \n",
              "105312                0   Shop 0  \n",
              "105313                1  Shop 30  \n",
              "105314                1  Shop 22  \n",
              "105315                1  Shop 18  \n",
              "105316                0   Shop 0  \n",
              "105317                0   Shop 0  \n",
              "105318                0   Shop 0  \n",
              "105319                0  Shop 15  \n",
              "105320                0  Shop 11  \n",
              "105321                0   Shop 0  \n",
              "105322                0   Shop 0  \n",
              "105323                0   Shop 0  \n",
              "105324                0   Shop 0  \n",
              "105325                0   Shop 0  \n",
              "105326                0   Shop 0  \n",
              "105327                0   Shop 0  \n",
              "105328                0  Shop 13  \n",
              "105329                0   Shop 0  \n",
              "105330                0   Shop 0  \n",
              "105331                0  Shop 24  \n",
              "105332                1  Shop 16  \n",
              "105333                0  Shop 29  \n",
              "105334                0  Shop 19  "
            ]
          },
          "execution_count": 14,
          "metadata": {},
          "output_type": "execute_result"
        }
      ],
      "source": [
        "# Memeriksa baris bawah dataframe\n",
        "data_retail.tail(30)"
      ]
    },
    {
      "cell_type": "code",
      "execution_count": null,
      "metadata": {
        "id": "idfMlrZeDZ2B",
        "outputId": "35eab6c6-0258-4214-ae23-ff272775d59d"
      },
      "outputs": [
        {
          "data": {
            "text/html": [
              "<div>\n",
              "<style scoped>\n",
              "    .dataframe tbody tr th:only-of-type {\n",
              "        vertical-align: middle;\n",
              "    }\n",
              "\n",
              "    .dataframe tbody tr th {\n",
              "        vertical-align: top;\n",
              "    }\n",
              "\n",
              "    .dataframe thead th {\n",
              "        text-align: right;\n",
              "    }\n",
              "</style>\n",
              "<table border=\"1\" class=\"dataframe\">\n",
              "  <thead>\n",
              "    <tr style=\"text-align: right;\">\n",
              "      <th></th>\n",
              "      <th>Quantity</th>\n",
              "      <th>purchasedate</th>\n",
              "      <th>CustomerID</th>\n",
              "      <th>ShopID</th>\n",
              "    </tr>\n",
              "  </thead>\n",
              "  <tbody>\n",
              "    <tr>\n",
              "      <th>6</th>\n",
              "      <td>0</td>\n",
              "      <td>2017-01-07 13:55:00</td>\n",
              "      <td>NaN</td>\n",
              "      <td>Shop 0</td>\n",
              "    </tr>\n",
              "    <tr>\n",
              "      <th>7</th>\n",
              "      <td>1</td>\n",
              "      <td>2017-01-17 17:57:00</td>\n",
              "      <td>NaN</td>\n",
              "      <td>Shop 0</td>\n",
              "    </tr>\n",
              "    <tr>\n",
              "      <th>8</th>\n",
              "      <td>0</td>\n",
              "      <td>2016-12-14 15:56:00</td>\n",
              "      <td>NaN</td>\n",
              "      <td>Shop 0</td>\n",
              "    </tr>\n",
              "    <tr>\n",
              "      <th>11</th>\n",
              "      <td>4</td>\n",
              "      <td>2017-01-20 18:08:00</td>\n",
              "      <td>NaN</td>\n",
              "      <td>Shop 0</td>\n",
              "    </tr>\n",
              "    <tr>\n",
              "      <th>16</th>\n",
              "      <td>5</td>\n",
              "      <td>2016-12-21 15:21:00</td>\n",
              "      <td>NaN</td>\n",
              "      <td>Shop 0</td>\n",
              "    </tr>\n",
              "    <tr>\n",
              "      <th>...</th>\n",
              "      <td>...</td>\n",
              "      <td>...</td>\n",
              "      <td>...</td>\n",
              "      <td>...</td>\n",
              "    </tr>\n",
              "    <tr>\n",
              "      <th>105325</th>\n",
              "      <td>69</td>\n",
              "      <td>2016-12-03 14:27:00</td>\n",
              "      <td>NaN</td>\n",
              "      <td>Shop 0</td>\n",
              "    </tr>\n",
              "    <tr>\n",
              "      <th>105326</th>\n",
              "      <td>1</td>\n",
              "      <td>2017-01-10 16:25:00</td>\n",
              "      <td>NaN</td>\n",
              "      <td>Shop 0</td>\n",
              "    </tr>\n",
              "    <tr>\n",
              "      <th>105327</th>\n",
              "      <td>0</td>\n",
              "      <td>2016-12-10 14:59:00</td>\n",
              "      <td>NaN</td>\n",
              "      <td>Shop 0</td>\n",
              "    </tr>\n",
              "    <tr>\n",
              "      <th>105329</th>\n",
              "      <td>3</td>\n",
              "      <td>2017-01-05 11:30:00</td>\n",
              "      <td>NaN</td>\n",
              "      <td>Shop 0</td>\n",
              "    </tr>\n",
              "    <tr>\n",
              "      <th>105330</th>\n",
              "      <td>1</td>\n",
              "      <td>2016-12-13 11:21:00</td>\n",
              "      <td>NaN</td>\n",
              "      <td>Shop 0</td>\n",
              "    </tr>\n",
              "  </tbody>\n",
              "</table>\n",
              "<p>38389 rows × 4 columns</p>\n",
              "</div>"
            ],
            "text/plain": [
              "        Quantity         purchasedate  CustomerID  ShopID\n",
              "6              0  2017-01-07 13:55:00         NaN  Shop 0\n",
              "7              1  2017-01-17 17:57:00         NaN  Shop 0\n",
              "8              0  2016-12-14 15:56:00         NaN  Shop 0\n",
              "11             4  2017-01-20 18:08:00         NaN  Shop 0\n",
              "16             5  2016-12-21 15:21:00         NaN  Shop 0\n",
              "...          ...                  ...         ...     ...\n",
              "105325        69  2016-12-03 14:27:00         NaN  Shop 0\n",
              "105326         1  2017-01-10 16:25:00         NaN  Shop 0\n",
              "105327         0  2016-12-10 14:59:00         NaN  Shop 0\n",
              "105329         3  2017-01-05 11:30:00         NaN  Shop 0\n",
              "105330         1  2016-12-13 11:21:00         NaN  Shop 0\n",
              "\n",
              "[38389 rows x 4 columns]"
            ]
          },
          "execution_count": 15,
          "metadata": {},
          "output_type": "execute_result"
        }
      ],
      "source": [
        "# Memeriksa lebih rinci nilai yang hilang\n",
        "# Memfilter hanya kolom Quantity, purchasedate, CustomerID, dan ShopID\n",
        "filtered_data_retail = data_retail.loc[data_retail['ShopID'] == 'Shop 0', ['Quantity', 'purchasedate', 'CustomerID', 'ShopID']]\n",
        "filtered_data_retail"
      ]
    },
    {
      "cell_type": "code",
      "execution_count": null,
      "metadata": {
        "id": "o9bg7XsxDZ2C",
        "outputId": "a2f85587-ffa6-4803-f996-827c7f3a0306"
      },
      "outputs": [
        {
          "data": {
            "text/html": [
              "<div>\n",
              "<style scoped>\n",
              "    .dataframe tbody tr th:only-of-type {\n",
              "        vertical-align: middle;\n",
              "    }\n",
              "\n",
              "    .dataframe tbody tr th {\n",
              "        vertical-align: top;\n",
              "    }\n",
              "\n",
              "    .dataframe thead th {\n",
              "        text-align: right;\n",
              "    }\n",
              "</style>\n",
              "<table border=\"1\" class=\"dataframe\">\n",
              "  <thead>\n",
              "    <tr style=\"text-align: right;\">\n",
              "      <th></th>\n",
              "      <th>Quantity</th>\n",
              "      <th>purchasedate</th>\n",
              "      <th>CustomerID</th>\n",
              "      <th>ShopID</th>\n",
              "    </tr>\n",
              "  </thead>\n",
              "  <tbody>\n",
              "    <tr>\n",
              "      <th>468</th>\n",
              "      <td>-31</td>\n",
              "      <td>2016-12-03 16:50:00</td>\n",
              "      <td>NaN</td>\n",
              "      <td>Shop 0</td>\n",
              "    </tr>\n",
              "    <tr>\n",
              "      <th>503</th>\n",
              "      <td>-61</td>\n",
              "      <td>2017-01-05 10:07:00</td>\n",
              "      <td>NaN</td>\n",
              "      <td>Shop 0</td>\n",
              "    </tr>\n",
              "    <tr>\n",
              "      <th>910</th>\n",
              "      <td>-940</td>\n",
              "      <td>2017-01-05 15:17:00</td>\n",
              "      <td>NaN</td>\n",
              "      <td>Shop 0</td>\n",
              "    </tr>\n",
              "    <tr>\n",
              "      <th>1181</th>\n",
              "      <td>-2</td>\n",
              "      <td>2016-12-07 15:51:00</td>\n",
              "      <td>NaN</td>\n",
              "      <td>Shop 0</td>\n",
              "    </tr>\n",
              "    <tr>\n",
              "      <th>1514</th>\n",
              "      <td>-2</td>\n",
              "      <td>2017-02-21 13:58:00</td>\n",
              "      <td>NaN</td>\n",
              "      <td>Shop 0</td>\n",
              "    </tr>\n",
              "    <tr>\n",
              "      <th>...</th>\n",
              "      <td>...</td>\n",
              "      <td>...</td>\n",
              "      <td>...</td>\n",
              "      <td>...</td>\n",
              "    </tr>\n",
              "    <tr>\n",
              "      <th>104960</th>\n",
              "      <td>-2601</td>\n",
              "      <td>2017-01-10 10:36:00</td>\n",
              "      <td>NaN</td>\n",
              "      <td>Shop 0</td>\n",
              "    </tr>\n",
              "    <tr>\n",
              "      <th>105056</th>\n",
              "      <td>-2</td>\n",
              "      <td>2017-02-18 12:21:00</td>\n",
              "      <td>18141.0</td>\n",
              "      <td>Shop 0</td>\n",
              "    </tr>\n",
              "    <tr>\n",
              "      <th>105139</th>\n",
              "      <td>-2</td>\n",
              "      <td>2017-01-28 14:54:00</td>\n",
              "      <td>NaN</td>\n",
              "      <td>Shop 0</td>\n",
              "    </tr>\n",
              "    <tr>\n",
              "      <th>105160</th>\n",
              "      <td>-2</td>\n",
              "      <td>2017-01-20 11:44:00</td>\n",
              "      <td>NaN</td>\n",
              "      <td>Shop 0</td>\n",
              "    </tr>\n",
              "    <tr>\n",
              "      <th>105250</th>\n",
              "      <td>-3</td>\n",
              "      <td>2017-01-11 17:35:00</td>\n",
              "      <td>19137.0</td>\n",
              "      <td>Shop 0</td>\n",
              "    </tr>\n",
              "  </tbody>\n",
              "</table>\n",
              "<p>372 rows × 4 columns</p>\n",
              "</div>"
            ],
            "text/plain": [
              "        Quantity         purchasedate  CustomerID  ShopID\n",
              "468          -31  2016-12-03 16:50:00         NaN  Shop 0\n",
              "503          -61  2017-01-05 10:07:00         NaN  Shop 0\n",
              "910         -940  2017-01-05 15:17:00         NaN  Shop 0\n",
              "1181          -2  2016-12-07 15:51:00         NaN  Shop 0\n",
              "1514          -2  2017-02-21 13:58:00         NaN  Shop 0\n",
              "...          ...                  ...         ...     ...\n",
              "104960     -2601  2017-01-10 10:36:00         NaN  Shop 0\n",
              "105056        -2  2017-02-18 12:21:00     18141.0  Shop 0\n",
              "105139        -2  2017-01-28 14:54:00         NaN  Shop 0\n",
              "105160        -2  2017-01-20 11:44:00         NaN  Shop 0\n",
              "105250        -3  2017-01-11 17:35:00     19137.0  Shop 0\n",
              "\n",
              "[372 rows x 4 columns]"
            ]
          },
          "execution_count": 16,
          "metadata": {},
          "output_type": "execute_result"
        }
      ],
      "source": [
        "filtered_data_retail[filtered_data_retail['Quantity'] < 0]"
      ]
    },
    {
      "cell_type": "markdown",
      "metadata": {
        "id": "7_qxAGEaDZ2C"
      },
      "source": [
        "**<font color=\"green\">Temuan</font>**\n",
        "\n",
        "* Dari hasil filter yang kita dapat, terlihat bahwa ketika nilai `ShopID` adalah \"Shop 0\", nilai `CustomerID` kecenderungannya menjadi NaN (nilai yang hilang), tetapi ada beberapa data di mana nilai `Quantity` juga tidak nol (misalnya, pada indeks baris 7). Selain itu, ditemukan nilai Quantity yang negatif pada salah satu data."
      ]
    },
    {
      "cell_type": "code",
      "execution_count": null,
      "metadata": {
        "id": "AJyz9Q2SDZ2C"
      },
      "outputs": [],
      "source": [
        "# MemFilter baris-baris yang memenuhi kriteria\n",
        "drop_rows = data_retail[(data_retail['ShopID'] == 'Shop 0') & (data_retail['CustomerID'].isnull()) | (data_retail['Quantity'] < 0)].index\n",
        "\n",
        "# Hapus baris-baris dengan indeks yang ditemukan\n",
        "data_retail_cleaned = data_retail.drop(drop_rows)\n",
        "# merubah nama-nama kolom ke bentuk yang sesuai\n",
        "data_retail_cleaned.rename(columns={'item_ID': 'item_id', 'Quantity': 'quantity', 'purchasedate': 'purchase_date', 'CustomerID': 'customer_id', 'ShopID': 'shop_id'}, inplace=True)"
      ]
    },
    {
      "cell_type": "code",
      "execution_count": null,
      "metadata": {
        "id": "-aFx2t51DZ2D",
        "outputId": "a10b28f4-7061-4688-fe31-a9c9b5fed453"
      },
      "outputs": [
        {
          "data": {
            "text/html": [
              "<div>\n",
              "<style scoped>\n",
              "    .dataframe tbody tr th:only-of-type {\n",
              "        vertical-align: middle;\n",
              "    }\n",
              "\n",
              "    .dataframe tbody tr th {\n",
              "        vertical-align: top;\n",
              "    }\n",
              "\n",
              "    .dataframe thead th {\n",
              "        text-align: right;\n",
              "    }\n",
              "</style>\n",
              "<table border=\"1\" class=\"dataframe\">\n",
              "  <thead>\n",
              "    <tr style=\"text-align: right;\">\n",
              "      <th></th>\n",
              "      <th>purchaseid</th>\n",
              "      <th>item_id</th>\n",
              "      <th>quantity</th>\n",
              "      <th>purchase_date</th>\n",
              "      <th>customer_id</th>\n",
              "      <th>loyalty_program</th>\n",
              "      <th>shop_id</th>\n",
              "    </tr>\n",
              "  </thead>\n",
              "  <tbody>\n",
              "  </tbody>\n",
              "</table>\n",
              "</div>"
            ],
            "text/plain": [
              "Empty DataFrame\n",
              "Columns: [purchaseid, item_id, quantity, purchase_date, customer_id, loyalty_program, shop_id]\n",
              "Index: []"
            ]
          },
          "execution_count": 18,
          "metadata": {},
          "output_type": "execute_result"
        }
      ],
      "source": [
        "data_retail_cleaned[data_retail_cleaned['quantity'] < 0]"
      ]
    },
    {
      "cell_type": "code",
      "execution_count": null,
      "metadata": {
        "id": "cwntw_unDZ2D",
        "outputId": "9ce7b24a-40c5-4fb4-9224-fc3256ac2203"
      },
      "outputs": [
        {
          "name": "stdout",
          "output_type": "stream",
          "text": [
            "<class 'pandas.core.frame.DataFrame'>\n",
            "Int64Index: 67518 entries, 0 to 105334\n",
            "Data columns (total 7 columns):\n",
            " #   Column           Non-Null Count  Dtype  \n",
            "---  ------           --------------  -----  \n",
            " 0   purchaseid       67518 non-null  object \n",
            " 1   item_id          67518 non-null  object \n",
            " 2   quantity         67518 non-null  int64  \n",
            " 3   purchase_date    67518 non-null  object \n",
            " 4   customer_id      67320 non-null  float64\n",
            " 5   loyalty_program  67518 non-null  int64  \n",
            " 6   shop_id          67518 non-null  object \n",
            "dtypes: float64(1), int64(2), object(4)\n",
            "memory usage: 4.1+ MB\n"
          ]
        }
      ],
      "source": [
        "data_retail_cleaned.info()"
      ]
    },
    {
      "cell_type": "code",
      "execution_count": null,
      "metadata": {
        "id": "AfAz_8OSDZ2D",
        "outputId": "b89f43bc-9efc-4420-8d00-b811e10fa15c"
      },
      "outputs": [
        {
          "data": {
            "text/html": [
              "<div>\n",
              "<style scoped>\n",
              "    .dataframe tbody tr th:only-of-type {\n",
              "        vertical-align: middle;\n",
              "    }\n",
              "\n",
              "    .dataframe tbody tr th {\n",
              "        vertical-align: top;\n",
              "    }\n",
              "\n",
              "    .dataframe thead th {\n",
              "        text-align: right;\n",
              "    }\n",
              "</style>\n",
              "<table border=\"1\" class=\"dataframe\">\n",
              "  <thead>\n",
              "    <tr style=\"text-align: right;\">\n",
              "      <th></th>\n",
              "      <th>purchaseid</th>\n",
              "      <th>item_id</th>\n",
              "      <th>quantity</th>\n",
              "      <th>purchase_date</th>\n",
              "      <th>customer_id</th>\n",
              "      <th>loyalty_program</th>\n",
              "      <th>shop_id</th>\n",
              "    </tr>\n",
              "  </thead>\n",
              "  <tbody>\n",
              "    <tr>\n",
              "      <th>0</th>\n",
              "      <td>538280</td>\n",
              "      <td>21873</td>\n",
              "      <td>11</td>\n",
              "      <td>2016-12-10 12:50:00</td>\n",
              "      <td>18427.0</td>\n",
              "      <td>0</td>\n",
              "      <td>Shop 3</td>\n",
              "    </tr>\n",
              "    <tr>\n",
              "      <th>1</th>\n",
              "      <td>538862</td>\n",
              "      <td>22195</td>\n",
              "      <td>0</td>\n",
              "      <td>2016-12-14 14:11:00</td>\n",
              "      <td>22389.0</td>\n",
              "      <td>1</td>\n",
              "      <td>Shop 2</td>\n",
              "    </tr>\n",
              "    <tr>\n",
              "      <th>2</th>\n",
              "      <td>538855</td>\n",
              "      <td>21239</td>\n",
              "      <td>7</td>\n",
              "      <td>2016-12-14 13:50:00</td>\n",
              "      <td>22182.0</td>\n",
              "      <td>1</td>\n",
              "      <td>Shop 3</td>\n",
              "    </tr>\n",
              "    <tr>\n",
              "      <th>3</th>\n",
              "      <td>543543</td>\n",
              "      <td>22271</td>\n",
              "      <td>0</td>\n",
              "      <td>2017-02-09 15:33:00</td>\n",
              "      <td>23522.0</td>\n",
              "      <td>1</td>\n",
              "      <td>Shop 28</td>\n",
              "    </tr>\n",
              "    <tr>\n",
              "      <th>4</th>\n",
              "      <td>543812</td>\n",
              "      <td>79321</td>\n",
              "      <td>0</td>\n",
              "      <td>2017-02-13 14:40:00</td>\n",
              "      <td>23151.0</td>\n",
              "      <td>1</td>\n",
              "      <td>Shop 28</td>\n",
              "    </tr>\n",
              "    <tr>\n",
              "      <th>...</th>\n",
              "      <td>...</td>\n",
              "      <td>...</td>\n",
              "      <td>...</td>\n",
              "      <td>...</td>\n",
              "      <td>...</td>\n",
              "      <td>...</td>\n",
              "      <td>...</td>\n",
              "    </tr>\n",
              "    <tr>\n",
              "      <th>105328</th>\n",
              "      <td>537886</td>\n",
              "      <td>22158</td>\n",
              "      <td>7</td>\n",
              "      <td>2016-12-09 09:49:00</td>\n",
              "      <td>21339.0</td>\n",
              "      <td>0</td>\n",
              "      <td>Shop 13</td>\n",
              "    </tr>\n",
              "    <tr>\n",
              "      <th>105331</th>\n",
              "      <td>540247</td>\n",
              "      <td>21742</td>\n",
              "      <td>0</td>\n",
              "      <td>2017-01-05 15:56:00</td>\n",
              "      <td>21143.0</td>\n",
              "      <td>0</td>\n",
              "      <td>Shop 24</td>\n",
              "    </tr>\n",
              "    <tr>\n",
              "      <th>105332</th>\n",
              "      <td>538068</td>\n",
              "      <td>85048</td>\n",
              "      <td>1</td>\n",
              "      <td>2016-12-09 14:05:00</td>\n",
              "      <td>23657.0</td>\n",
              "      <td>1</td>\n",
              "      <td>Shop 16</td>\n",
              "    </tr>\n",
              "    <tr>\n",
              "      <th>105333</th>\n",
              "      <td>538207</td>\n",
              "      <td>22818</td>\n",
              "      <td>11</td>\n",
              "      <td>2016-12-10 11:33:00</td>\n",
              "      <td>18427.0</td>\n",
              "      <td>0</td>\n",
              "      <td>Shop 29</td>\n",
              "    </tr>\n",
              "    <tr>\n",
              "      <th>105334</th>\n",
              "      <td>543977</td>\n",
              "      <td>22384</td>\n",
              "      <td>9</td>\n",
              "      <td>2017-02-14 15:35:00</td>\n",
              "      <td>21294.0</td>\n",
              "      <td>0</td>\n",
              "      <td>Shop 19</td>\n",
              "    </tr>\n",
              "  </tbody>\n",
              "</table>\n",
              "<p>67518 rows × 7 columns</p>\n",
              "</div>"
            ],
            "text/plain": [
              "       purchaseid item_id  quantity        purchase_date  customer_id  \\\n",
              "0          538280   21873        11  2016-12-10 12:50:00      18427.0   \n",
              "1          538862   22195         0  2016-12-14 14:11:00      22389.0   \n",
              "2          538855   21239         7  2016-12-14 13:50:00      22182.0   \n",
              "3          543543   22271         0  2017-02-09 15:33:00      23522.0   \n",
              "4          543812   79321         0  2017-02-13 14:40:00      23151.0   \n",
              "...           ...     ...       ...                  ...          ...   \n",
              "105328     537886   22158         7  2016-12-09 09:49:00      21339.0   \n",
              "105331     540247   21742         0  2017-01-05 15:56:00      21143.0   \n",
              "105332     538068   85048         1  2016-12-09 14:05:00      23657.0   \n",
              "105333     538207   22818        11  2016-12-10 11:33:00      18427.0   \n",
              "105334     543977   22384         9  2017-02-14 15:35:00      21294.0   \n",
              "\n",
              "        loyalty_program  shop_id  \n",
              "0                     0   Shop 3  \n",
              "1                     1   Shop 2  \n",
              "2                     1   Shop 3  \n",
              "3                     1  Shop 28  \n",
              "4                     1  Shop 28  \n",
              "...                 ...      ...  \n",
              "105328                0  Shop 13  \n",
              "105331                0  Shop 24  \n",
              "105332                1  Shop 16  \n",
              "105333                0  Shop 29  \n",
              "105334                0  Shop 19  \n",
              "\n",
              "[67518 rows x 7 columns]"
            ]
          },
          "execution_count": 20,
          "metadata": {},
          "output_type": "execute_result"
        }
      ],
      "source": [
        "data_retail_cleaned"
      ]
    },
    {
      "cell_type": "markdown",
      "metadata": {
        "id": "QV813FpqDZ2D"
      },
      "source": [
        "**<font color=\"green\">Temuan</font>**\n",
        "\n",
        "* Dari informasi yang tersedia, mari kita ubah ke tipe data yang sesuai untuk kepentingan analisis."
      ]
    },
    {
      "cell_type": "code",
      "execution_count": null,
      "metadata": {
        "id": "VptGd4aXDZ2N"
      },
      "outputs": [],
      "source": [
        "# Merubah tipe data untuk kepentingan analisis\n",
        "data_retail_cleaned['purchase_date'] = pd.to_datetime(data_retail_cleaned['purchase_date'])\n",
        "data_retail_cleaned['customer_id'] = data_retail_cleaned['customer_id'].astype('Int64')  # menggunakan 'Int64' karena kolom masih ada yang NULL\n",
        "data_retail_cleaned['loyalty_program'] = data_retail_cleaned['loyalty_program'].astype('bool')"
      ]
    },
    {
      "cell_type": "code",
      "execution_count": null,
      "metadata": {
        "id": "ZW8NcG0GDZ2N",
        "outputId": "a6c3f55d-b471-46f5-c837-872949a3ad6d"
      },
      "outputs": [
        {
          "name": "stdout",
          "output_type": "stream",
          "text": [
            "<class 'pandas.core.frame.DataFrame'>\n",
            "Int64Index: 67518 entries, 0 to 105334\n",
            "Data columns (total 7 columns):\n",
            " #   Column           Non-Null Count  Dtype         \n",
            "---  ------           --------------  -----         \n",
            " 0   purchaseid       67518 non-null  object        \n",
            " 1   item_id          67518 non-null  object        \n",
            " 2   quantity         67518 non-null  int64         \n",
            " 3   purchase_date    67518 non-null  datetime64[ns]\n",
            " 4   customer_id      67320 non-null  Int64         \n",
            " 5   loyalty_program  67518 non-null  bool          \n",
            " 6   shop_id          67518 non-null  object        \n",
            "dtypes: Int64(1), bool(1), datetime64[ns](1), int64(1), object(3)\n",
            "memory usage: 3.7+ MB\n"
          ]
        }
      ],
      "source": [
        "# Memeriksa ulang informasi data_retail_cleaned\n",
        "data_retail_cleaned.info()"
      ]
    },
    {
      "cell_type": "markdown",
      "metadata": {
        "id": "DPupN2KTDZ2O"
      },
      "source": [
        "**<font color=\"green\">Kesimpulan sementara</font>**\n",
        "\n",
        "* Interpretasi dari filter data ini (`data_retail_cleaned`) adalah bahwa ada beberapa transaksi yang terjadi di `Shop 0` di mana pelanggan tidak terdaftar (`customer_id hilang`), dan ada beberapa kasus di mana jumlah barang `quantity` bukan nol, bahkan ketika pelanggan tidak terdaftar. Adanya nilai `quantity` yang negatif (-13) juga merupakan indikasi yang perlu diperhatikan karena biasanya tidak mungkin ada transaksi dengan jumlah barang negatif. **Maka dari itu kita akan mengurangi atau menghapus nilai kosong untuk relevansi kepentingan analisis dengan jumlah entry bersisa 67.518 yang sebelumnya sebesar 105.335, kita masih menemukan nilai hilang pada kolom customer_id yaitu 67320. Namun hal ini bukanlah hal yang besar.**"
      ]
    },
    {
      "cell_type": "markdown",
      "metadata": {
        "id": "2x5R4XcCDZ2O"
      },
      "source": [
        "#### Memeriksa dan validasi distribusi data\n",
        "\n",
        "* Memeriksa masing-masing distribusi data untuk setiap dataframe\n",
        "\n",
        "**kode_produk dataframe**"
      ]
    },
    {
      "cell_type": "code",
      "execution_count": null,
      "metadata": {
        "id": "8ImrhnviDZ2O",
        "outputId": "098f7615-e286-44f4-c9cf-098176001415"
      },
      "outputs": [
        {
          "data": {
            "text/html": [
              "<div>\n",
              "<style scoped>\n",
              "    .dataframe tbody tr th:only-of-type {\n",
              "        vertical-align: middle;\n",
              "    }\n",
              "\n",
              "    .dataframe tbody tr th {\n",
              "        vertical-align: top;\n",
              "    }\n",
              "\n",
              "    .dataframe thead th {\n",
              "        text-align: right;\n",
              "    }\n",
              "</style>\n",
              "<table border=\"1\" class=\"dataframe\">\n",
              "  <thead>\n",
              "    <tr style=\"text-align: right;\">\n",
              "      <th></th>\n",
              "      <th>price_per_one</th>\n",
              "    </tr>\n",
              "  </thead>\n",
              "  <tbody>\n",
              "    <tr>\n",
              "      <th>count</th>\n",
              "      <td>3159.000000</td>\n",
              "    </tr>\n",
              "    <tr>\n",
              "      <th>mean</th>\n",
              "      <td>2.954495</td>\n",
              "    </tr>\n",
              "    <tr>\n",
              "      <th>std</th>\n",
              "      <td>7.213808</td>\n",
              "    </tr>\n",
              "    <tr>\n",
              "      <th>min</th>\n",
              "      <td>0.000000</td>\n",
              "    </tr>\n",
              "    <tr>\n",
              "      <th>25%</th>\n",
              "      <td>0.650000</td>\n",
              "    </tr>\n",
              "    <tr>\n",
              "      <th>50%</th>\n",
              "      <td>1.450000</td>\n",
              "    </tr>\n",
              "    <tr>\n",
              "      <th>75%</th>\n",
              "      <td>3.290000</td>\n",
              "    </tr>\n",
              "    <tr>\n",
              "      <th>max</th>\n",
              "      <td>175.000000</td>\n",
              "    </tr>\n",
              "  </tbody>\n",
              "</table>\n",
              "</div>"
            ],
            "text/plain": [
              "       price_per_one\n",
              "count    3159.000000\n",
              "mean        2.954495\n",
              "std         7.213808\n",
              "min         0.000000\n",
              "25%         0.650000\n",
              "50%         1.450000\n",
              "75%         3.290000\n",
              "max       175.000000"
            ]
          },
          "execution_count": 23,
          "metadata": {},
          "output_type": "execute_result"
        }
      ],
      "source": [
        "# distribusi kode_produk\n",
        "kode_produk.describe()"
      ]
    },
    {
      "cell_type": "code",
      "execution_count": null,
      "metadata": {
        "id": "zTO6ss1eDZ2P",
        "outputId": "eff53e44-36c8-47d7-8eda-9fefdce7e175"
      },
      "outputs": [
        {
          "data": {
            "text/plain": [
              "count      3159\n",
              "unique     3159\n",
              "top       22468\n",
              "freq          1\n",
              "Name: product_id, dtype: object"
            ]
          },
          "execution_count": 24,
          "metadata": {},
          "output_type": "execute_result"
        }
      ],
      "source": [
        "# distribusi kode_produk filter product_id\n",
        "kode_produk['product_id'].describe()"
      ]
    },
    {
      "cell_type": "markdown",
      "metadata": {
        "id": "-4_WgEIPDZ2P"
      },
      "source": [
        "**<font color=\"green\">Kesimpulan sementara</font>**\n",
        "\n",
        "- Harga per Unit Produk (`price_per_one`):\n",
        "\n",
        "   - Jumlah total entri (count) adalah 3159.\n",
        "   - Rata-rata harga per unit produk adalah sekitar `US 2.95`, dengan standar deviasi sebesar `US 7.21`. Standar deviasi yang tinggi menunjukkan bahwa harga per unit memiliki variasi yang signifikan.  \n",
        "   - Harga per unit berkisar dari `US 0` hingga `US 175`, dengan nilai median (50th percentile) sebesar `US 1.45`.\n",
        "   - Kuartil pertama (25th percentile) adalah `US 0.65` dan kuartil ketiga (75th percentile) adalah `US 3.29`.\n",
        "\n",
        "\n",
        "- Kode Produk (`product_id`):\n",
        "\n",
        "   - Jumlah total entri (count) juga adalah 3159.\n",
        "   - Terdapat 3159 nilai unik dalam kolom `product_id`, yang berarti setiap produk memiliki kode yang berbeda.\n",
        "   - Kode produk yang paling sering muncul (modus) adalah `17012C`, yang muncul sekali saja dalam dataset."
      ]
    },
    {
      "cell_type": "markdown",
      "metadata": {
        "id": "hZzONK1SDZ2P"
      },
      "source": [
        "**data_retail_cleaned Dataframe**"
      ]
    },
    {
      "cell_type": "code",
      "execution_count": null,
      "metadata": {
        "id": "pVmPbHECDZ2P",
        "outputId": "46e431b0-7b50-4813-cae2-d24cbfe495f8"
      },
      "outputs": [
        {
          "data": {
            "text/html": [
              "<div>\n",
              "<style scoped>\n",
              "    .dataframe tbody tr th:only-of-type {\n",
              "        vertical-align: middle;\n",
              "    }\n",
              "\n",
              "    .dataframe tbody tr th {\n",
              "        vertical-align: top;\n",
              "    }\n",
              "\n",
              "    .dataframe thead th {\n",
              "        text-align: right;\n",
              "    }\n",
              "</style>\n",
              "<table border=\"1\" class=\"dataframe\">\n",
              "  <thead>\n",
              "    <tr style=\"text-align: right;\">\n",
              "      <th></th>\n",
              "      <th>quantity</th>\n",
              "      <th>customer_id</th>\n",
              "    </tr>\n",
              "  </thead>\n",
              "  <tbody>\n",
              "    <tr>\n",
              "      <th>count</th>\n",
              "      <td>67518.000000</td>\n",
              "      <td>67320.000000</td>\n",
              "    </tr>\n",
              "    <tr>\n",
              "      <th>mean</th>\n",
              "      <td>12.772712</td>\n",
              "      <td>21029.127050</td>\n",
              "    </tr>\n",
              "    <tr>\n",
              "      <th>std</th>\n",
              "      <td>289.736223</td>\n",
              "      <td>1765.991351</td>\n",
              "    </tr>\n",
              "    <tr>\n",
              "      <th>min</th>\n",
              "      <td>0.000000</td>\n",
              "      <td>18025.000000</td>\n",
              "    </tr>\n",
              "    <tr>\n",
              "      <th>25%</th>\n",
              "      <td>1.000000</td>\n",
              "      <td>19550.000000</td>\n",
              "    </tr>\n",
              "    <tr>\n",
              "      <th>50%</th>\n",
              "      <td>4.000000</td>\n",
              "      <td>20990.000000</td>\n",
              "    </tr>\n",
              "    <tr>\n",
              "      <th>75%</th>\n",
              "      <td>11.000000</td>\n",
              "      <td>22680.000000</td>\n",
              "    </tr>\n",
              "    <tr>\n",
              "      <th>max</th>\n",
              "      <td>74214.000000</td>\n",
              "      <td>23962.000000</td>\n",
              "    </tr>\n",
              "  </tbody>\n",
              "</table>\n",
              "</div>"
            ],
            "text/plain": [
              "           quantity   customer_id\n",
              "count  67518.000000  67320.000000\n",
              "mean      12.772712  21029.127050\n",
              "std      289.736223   1765.991351\n",
              "min        0.000000  18025.000000\n",
              "25%        1.000000  19550.000000\n",
              "50%        4.000000  20990.000000\n",
              "75%       11.000000  22680.000000\n",
              "max    74214.000000  23962.000000"
            ]
          },
          "execution_count": 25,
          "metadata": {},
          "output_type": "execute_result"
        }
      ],
      "source": [
        "data_retail_cleaned.describe()"
      ]
    },
    {
      "cell_type": "markdown",
      "metadata": {
        "id": "qmU43cx3DZ2Q"
      },
      "source": [
        "**<font color=\"green\">Kesimpulan sementara</font>**\n",
        "\n",
        "- Jumlah Barang (`quantity`):\n",
        "\n",
        "   - Jumlah total transaksi yang diamati adalah 67,518.\n",
        "   - `Rata-rata` `jumlah barang` dalam setiap transaksi adalah sekitar `12.77`, dengan `standar deviasi` sebesar `289.74`. Standar deviasi yang tinggi menunjukkan adanya variasi yang signifikan dalam jumlah barang antar transaksi.  \n",
        "   - `Jumlah barang` dalam satu transaksi berkisar dari `0` hingga `74,214`. `Median (50th percentile)` dari jumlah barang adalah `4`, yang berarti setengah dari transaksi memiliki `4` barang atau kurang.\n",
        "   - `Kuartil pertama (25th percentile)` adalah `1` dan `kuartil ketiga (75th percentile)` adalah `11`, yang menunjukkan sebagian besar transaksi memiliki jumlah barang kurang dari `11`.\n",
        "\n",
        "\n",
        "- ID Pelanggan (`customer_id`):\n",
        "\n",
        "   - Jumlah total ID pelanggan yang diamati adalah 67,320.\n",
        "   - `Rata-rata` `ID pelanggan` yang terdapat dalam transaksi adalah sekitar `21,029.13`, dengan `standar deviasi` sebesar `1,765.99`. Standar deviasi yang tinggi menunjukkan variasi yang signifikan dalam ID pelanggan yang berbeda.\n",
        "   - `ID pelanggan` berkisar dari `18,025` hingga `23,962`. `Median (50th percentile)` dari ID pelanggan adalah `20,990`, yang berarti setengah dari transaksi melibatkan pelanggan dengan ID 20,990 atau kurang.\n",
        "   - `Kuartil pertama (25th percentile)` adalah `19,550` dan `kuartil ketiga (75th percentile)` adalah `22,680`, yang menunjukkan sebagian besar transaksi melibatkan pelanggan dengan ID antara 19,550 hingga 22,680."
      ]
    },
    {
      "cell_type": "markdown",
      "metadata": {
        "id": "-gGMj4uzDZ2Q"
      },
      "source": [
        "#### Membuat korelasi matriks\n",
        "\n",
        "* Membuat dan Melihat masing-masing korelasi dari dataframe\n",
        "\n",
        "**kode_produk Dataframe**"
      ]
    },
    {
      "cell_type": "code",
      "execution_count": null,
      "metadata": {
        "id": "DxtLs7TDDZ2Q",
        "outputId": "1734e094-09e8-4a72-abf1-441fe43915fc"
      },
      "outputs": [
        {
          "data": {
            "text/html": [
              "<div>\n",
              "<style scoped>\n",
              "    .dataframe tbody tr th:only-of-type {\n",
              "        vertical-align: middle;\n",
              "    }\n",
              "\n",
              "    .dataframe tbody tr th {\n",
              "        vertical-align: top;\n",
              "    }\n",
              "\n",
              "    .dataframe thead th {\n",
              "        text-align: right;\n",
              "    }\n",
              "</style>\n",
              "<table border=\"1\" class=\"dataframe\">\n",
              "  <thead>\n",
              "    <tr style=\"text-align: right;\">\n",
              "      <th></th>\n",
              "      <th>price_per_one</th>\n",
              "    </tr>\n",
              "  </thead>\n",
              "  <tbody>\n",
              "    <tr>\n",
              "      <th>price_per_one</th>\n",
              "      <td>1.0</td>\n",
              "    </tr>\n",
              "  </tbody>\n",
              "</table>\n",
              "</div>"
            ],
            "text/plain": [
              "               price_per_one\n",
              "price_per_one            1.0"
            ]
          },
          "execution_count": 26,
          "metadata": {},
          "output_type": "execute_result"
        }
      ],
      "source": [
        "# Melakukan test korelasi pada kode_produk\n",
        "correlation_matrix_product_code = kode_produk.corr()\n",
        "correlation_matrix_product_code"
      ]
    },
    {
      "cell_type": "markdown",
      "metadata": {
        "id": "jv13ft-kDZ2R"
      },
      "source": [
        "**<font color=\"green\">Kesimpulan sementara</font>**\n",
        "\n",
        "- Membuat matriks korelasi berguna untuk melihat hubungan antara variabel-variabel dalam dataset. Namun, untuk DataFrame kode_produk yang hanya memiliki satu variabel numerik (`price_per_one`), membuat matriks korelasi tidaklah bermakna karena korelasi hanya dapat dihitung antara dua variabel numerik."
      ]
    },
    {
      "cell_type": "markdown",
      "metadata": {
        "id": "UgslDT1wDZ2R"
      },
      "source": [
        "**data_retail_cleaned Dataframe**"
      ]
    },
    {
      "cell_type": "code",
      "execution_count": null,
      "metadata": {
        "id": "AytfSugsDZ2R",
        "outputId": "a884dab3-7294-427c-de83-159cdd4eeb5a"
      },
      "outputs": [
        {
          "data": {
            "text/html": [
              "<div>\n",
              "<style scoped>\n",
              "    .dataframe tbody tr th:only-of-type {\n",
              "        vertical-align: middle;\n",
              "    }\n",
              "\n",
              "    .dataframe tbody tr th {\n",
              "        vertical-align: top;\n",
              "    }\n",
              "\n",
              "    .dataframe thead th {\n",
              "        text-align: right;\n",
              "    }\n",
              "</style>\n",
              "<table border=\"1\" class=\"dataframe\">\n",
              "  <thead>\n",
              "    <tr style=\"text-align: right;\">\n",
              "      <th></th>\n",
              "      <th>quantity</th>\n",
              "      <th>customer_id</th>\n",
              "      <th>loyalty_program</th>\n",
              "    </tr>\n",
              "  </thead>\n",
              "  <tbody>\n",
              "    <tr>\n",
              "      <th>quantity</th>\n",
              "      <td>1.000000</td>\n",
              "      <td>-0.011692</td>\n",
              "      <td>-0.006984</td>\n",
              "    </tr>\n",
              "    <tr>\n",
              "      <th>customer_id</th>\n",
              "      <td>-0.011692</td>\n",
              "      <td>1.000000</td>\n",
              "      <td>0.834617</td>\n",
              "    </tr>\n",
              "    <tr>\n",
              "      <th>loyalty_program</th>\n",
              "      <td>-0.006984</td>\n",
              "      <td>0.834617</td>\n",
              "      <td>1.000000</td>\n",
              "    </tr>\n",
              "  </tbody>\n",
              "</table>\n",
              "</div>"
            ],
            "text/plain": [
              "                 quantity  customer_id  loyalty_program\n",
              "quantity         1.000000    -0.011692        -0.006984\n",
              "customer_id     -0.011692     1.000000         0.834617\n",
              "loyalty_program -0.006984     0.834617         1.000000"
            ]
          },
          "execution_count": 27,
          "metadata": {},
          "output_type": "execute_result"
        }
      ],
      "source": [
        "# Melakukan test korelasi pada data_retail_cleaned\n",
        "correlation_matrix_retail_cleaned = data_retail_cleaned.corr()\n",
        "correlation_matrix_retail_cleaned"
      ]
    },
    {
      "cell_type": "markdown",
      "metadata": {
        "id": "xV0zDSOlDZ2R"
      },
      "source": [
        "**<font color=\"green\">Kesimpulan sementara</font>**\n",
        "\n",
        "- Korelasi antara `quantity` dan `customer_id`:\n",
        "\n",
        "   - Korelasi antara `quantity` dan `customer_id` adalah -0.0117.\n",
        "   - Korelasi ini menunjukkan hubungan yang sangat lemah dan hampir tidak signifikan antara `jumlah barang` dalam setiap transaksi (`quantity`) dengan identitas pelanggan (`customer_id`).\n",
        "   - Nilai negatif menunjukkan bahwa ada kecenderungan untuk jumlah barang dalam transaksi cenderung berkurang dengan peningkatan identitas pelanggan, tetapi korelasi yang sangat dekat dengan nol menunjukkan bahwa hubungan ini sangat lemah dan tidak signifikan.\n",
        "   \n",
        "- Korelasi antara `customer_id` dan `loyalty_program`:\n",
        "\n",
        "   - Korelasi antara `customer_id` dan `loyalty_program` adalah 0.8346.\n",
        "   - Korelasi ini menunjukkan hubungan yang kuat dan positif antara identitas pelanggan (`customer_id`) dengan keanggotaan dalam loyalty program  (`loyalty_program`).\n",
        "   - Nilai positif yang tinggi menunjukkan bahwa ada kecenderungan pelanggan yang memiliki ID tertentu untuk menjadi anggota loyalty program, dengan nilai korelasi yang cukup tinggi menunjukkan hubungan yang kuat antara kedua variabel tersebut.\n",
        "\n",
        "- Korelasi antara `quantity` dan `loyalty_program`:\n",
        "\n",
        "   - Korelasi antara `quantity` dan `loyalty_program` adalah -0.0070.\n",
        "   - Korelasi ini menunjukkan hubungan yang sangat lemah dan hampir tidak signifikan antara `jumlah barang` dalam setiap transaksi (`quantity`) dengan keanggotaan dalam program loyalitas (`loyalty_program`).\n",
        "   - Nilai negatif yang sangat kecil menunjukkan bahwa tidak ada hubungan yang jelas antara jumlah barang dalam transaksi dengan keanggotaan dalam program loyalitas."
      ]
    },
    {
      "cell_type": "markdown",
      "metadata": {
        "id": "HUCf14UKDZ2S"
      },
      "source": [
        "#### Membuat histogram untuk melihat distribusi dan analisa lebih lanjut\n",
        "\n",
        "* Kita akan melihat distribusi melalui histogram untuk dataframe yang sudah diolah.\n",
        "\n",
        "**kode_produk Dataframe**"
      ]
    },
    {
      "cell_type": "code",
      "execution_count": null,
      "metadata": {
        "id": "_2j_I_yWDZ2S",
        "outputId": "7a662ed8-5278-4a82-99f5-4564e4696d2c"
      },
      "outputs": [
        {
          "data": {
            "image/png": "[encoded data removed]",
            "text/plain": [
              "<Figure size 720x432 with 1 Axes>"
            ]
          },
          "metadata": {
            "needs_background": "light"
          },
          "output_type": "display_data"
        }
      ],
      "source": [
        "# Membuat plot histogram distribusi kode_produk\n",
        "plt.figure(figsize=(10, 6))\n",
        "sns.histplot(data=kode_produk, x='price_per_one', bins=10, kde=True, color='limegreen')\n",
        "plt.title('Distribution of Price per One')\n",
        "plt.xlabel('Price per One')\n",
        "plt.ylabel('Frequency')\n",
        "plt.show()"
      ]
    },
    {
      "cell_type": "code",
      "execution_count": null,
      "metadata": {
        "id": "jHqJqQnRDZ2S",
        "outputId": "0ae12a4a-92a1-4581-a575-cee2efeb71b4"
      },
      "outputs": [
        {
          "data": {
            "image/png": "[encoded data removed]",
            "text/plain": [
              "<Figure size 720x432 with 1 Axes>"
            ]
          },
          "metadata": {
            "needs_background": "light"
          },
          "output_type": "display_data"
        }
      ],
      "source": [
        "# Mengambil 30 sampel acak dari DataFrame kode_produk\n",
        "kode_produk_sample = kode_produk.sample(n=30, random_state=42)\n",
        "\n",
        "# Membuat plot histogram distribusi price_per_one\n",
        "plt.figure(figsize=(10, 6))\n",
        "sns.histplot(data=kode_produk_sample, x='price_per_one', bins=10, kde=True, color='limegreen')\n",
        "plt.title('Distribution of Price per One (Sample)')\n",
        "plt.xlabel('Price per One')\n",
        "plt.ylabel('Frequency')\n",
        "plt.show()"
      ]
    },
    {
      "cell_type": "markdown",
      "metadata": {
        "id": "AvDO-REwDZ2T"
      },
      "source": [
        "**<font color=\"green\">Kesimpulan sementara</font>**\n",
        "\n",
        "- Distribusi data yang miring ke kanan (skewed right) untuk `kode_produk` mengindikasikan bahwa ekor distribusi (tail) data lebih panjang di sebelah kanan dari nilai pusat distribusi. Ini berarti bahwa ada sejumlah besar nilai yang lebih tinggi dari nilai rata-rata atau median, sehingga distribusi memiliki ekor yang panjang di sebelah kanan."
      ]
    },
    {
      "cell_type": "markdown",
      "metadata": {
        "id": "SlWbzoT-DZ2T"
      },
      "source": [
        "**data_retail_cleaned Dataframe**"
      ]
    },
    {
      "cell_type": "code",
      "execution_count": null,
      "metadata": {
        "id": "mZD58CqdDZ2T",
        "outputId": "aaf3acf9-ce90-4999-9404-3525a8359b76"
      },
      "outputs": [
        {
          "data": {
            "image/png": "[encoded data removed]",
            "text/plain": [
              "<Figure size 720x432 with 1 Axes>"
            ]
          },
          "metadata": {
            "needs_background": "light"
          },
          "output_type": "display_data"
        }
      ],
      "source": [
        "# Membuat plot histogram distribusi data_retail_cleaned\n",
        "plt.figure(figsize=(10, 6))\n",
        "sns.histplot(data=data_retail_cleaned, x='quantity', bins=30, kde=True, color='limegreen')\n",
        "plt.title('Distribution of Quantity in data_retail_cleaned')\n",
        "plt.xlabel('Quantity')\n",
        "plt.ylabel('Frequency')\n",
        "plt.show()"
      ]
    },
    {
      "cell_type": "code",
      "execution_count": null,
      "metadata": {
        "id": "eoUBCmyGDZ2T",
        "outputId": "d4137f5b-4387-4eb1-ef55-c3d4dcd8d4da"
      },
      "outputs": [
        {
          "data": {
            "image/png": "[encoded data removed]",
            "text/plain": [
              "<Figure size 720x432 with 1 Axes>"
            ]
          },
          "metadata": {
            "needs_background": "light"
          },
          "output_type": "display_data"
        }
      ],
      "source": [
        "# Mengambil 30 sampel acak dari DataFrame data_retail_cleaned\n",
        "data_retail_cleaned_sample = data_retail_cleaned.sample(n=30, random_state=42)\n",
        "\n",
        "# Membuat plot histogram distribusi data_retail_cleaned_sample\n",
        "plt.figure(figsize=(10, 6))\n",
        "sns.histplot(data=data_retail_cleaned_sample, x='quantity', bins=20, kde=True, color='limegreen')\n",
        "plt.title('Distribution of Quantity (Sample) in data_retail_cleaned')\n",
        "plt.xlabel('Quantity')\n",
        "plt.ylabel('Frequency')\n",
        "plt.show()"
      ]
    },
    {
      "cell_type": "code",
      "execution_count": null,
      "metadata": {
        "id": "UCodqRBVDZ2U",
        "outputId": "6c4b6056-29d7-4a95-ca38-73afa1f5150c"
      },
      "outputs": [
        {
          "data": {
            "image/png": "[encoded data removed]",
            "text/plain": [
              "<Figure size 720x432 with 1 Axes>"
            ]
          },
          "metadata": {
            "needs_background": "light"
          },
          "output_type": "display_data"
        }
      ],
      "source": [
        "# Membuat plot histogram distribusi customer_id\n",
        "plt.figure(figsize=(10, 6))\n",
        "sns.histplot(data=data_retail_cleaned, x='customer_id', bins=30, kde=False, color='limegreen')\n",
        "plt.title('Distribution of Customer IDs in data_retail_cleaned')\n",
        "plt.xlabel('Customer ID')\n",
        "plt.ylabel('Frequency')\n",
        "plt.show()"
      ]
    },
    {
      "cell_type": "code",
      "execution_count": null,
      "metadata": {
        "id": "26cP9Qj9DZ2U",
        "outputId": "fc67bbe7-81af-4a98-cd91-af6e0af24fd5"
      },
      "outputs": [
        {
          "data": {
            "image/png": "[encoded data removed]",
            "text/plain": [
              "<Figure size 576x432 with 1 Axes>"
            ]
          },
          "metadata": {
            "needs_background": "light"
          },
          "output_type": "display_data"
        }
      ],
      "source": [
        "# Merubah tipe data untuk kepentingan analisis\n",
        "data_retail_cleaned['loyalty_program'] = data_retail_cleaned['loyalty_program'].astype('Int64')\n",
        "\n",
        "# Membuat plot histogram distribusi data_retail_cleaned\n",
        "plt.figure(figsize=(8, 6))\n",
        "sns.histplot(data=data_retail_cleaned, x='loyalty_program', bins=2, discrete=True, color='limegreen')\n",
        "plt.title('Distribution of Loyalty Program in data_retail_cleaned')\n",
        "plt.xlabel('Loyalty Program')\n",
        "plt.ylabel('Frequency')\n",
        "plt.xticks([0, 1], ['Non-Member', 'Member'])\n",
        "plt.show()"
      ]
    },
    {
      "cell_type": "markdown",
      "metadata": {
        "id": "jfBNULDtDZ2U"
      },
      "source": [
        "**<font color=\"green\">Kesimpulan sementara</font>**\n",
        "\n",
        "- Dari data distribusi histogram data_retail_cleaned, distribusi dari masing-masing kolom memiliki variasi yang signifikan. Jika kita melihat distribusi `quantity`, itu mungkin dikarenakan banyaknya data yang dihapus untuk kepentingan relevansi analisis, sehingga berbentuk miring ke kanan dengan varian yang signifikan."
      ]
    },
    {
      "cell_type": "markdown",
      "metadata": {
        "id": "yfdH3axRDZ2V"
      },
      "source": [
        "### Menguji Hipotesis\n",
        "    Selanjutnya mari kita uji hipotesis dari data yang telah kita olah.\n",
        "     \n",
        "   #### Memisahkan data pembelian antara member loyalty program dan non-member loyalty program\n",
        "    Dengan data yang telah diolah kita akan memisahkan data pembelian antara anggota loyalty program dan bukan anggota loyalty program."
      ]
    },
    {
      "cell_type": "code",
      "execution_count": null,
      "metadata": {
        "id": "1AM6KCUMDZ2V",
        "outputId": "144e8ac1-c9b3-481f-e160-61b18c8706c5"
      },
      "outputs": [
        {
          "name": "stdout",
          "output_type": "stream",
          "text": [
            "\u001b[1mJumlah Pembelian oleh Anggota loyalty program:\u001b[0m 23397\n",
            "\u001b[1mJumlah Pembelian oleh Bukan Anggota loyalty program:\u001b[0m 44121\n"
          ]
        }
      ],
      "source": [
        "# Memisahkan data pembelian antara anggota loyalty program dan bukan anggota loyalty program\n",
        "data_loyal_customers = data_retail_cleaned[data_retail_cleaned['loyalty_program'] == 1]\n",
        "data_non_loyal_customers = data_retail_cleaned[data_retail_cleaned['loyalty_program'] == 0]\n",
        "\n",
        "# Mencetak jumlah pembelian oleh anggota loyalty program dan bukan anggota loyalty program\n",
        "print(\"\\033[1mJumlah Pembelian oleh Anggota loyalty program:\\033[0m\", len(data_loyal_customers))\n",
        "print(\"\\033[1mJumlah Pembelian oleh Bukan Anggota loyalty program:\\033[0m\", len(data_non_loyal_customers))"
      ]
    },
    {
      "cell_type": "code",
      "execution_count": null,
      "metadata": {
        "id": "SAnQ0SddDZ2V",
        "outputId": "963709f3-9956-4aab-ce4e-ccab2864b6ad"
      },
      "outputs": [
        {
          "data": {
            "image/png": "[encoded data removed]",
            "text/plain": [
              "<Figure size 504x504 with 1 Axes>"
            ]
          },
          "metadata": {},
          "output_type": "display_data"
        }
      ],
      "source": [
        "# Menghitung jumlah pembelian oleh anggota loyalty program dan bukan anggota loyalty program\n",
        "data_loyal_counts = len(data_loyal_customers)\n",
        "data_non_loyal_counts = len(data_non_loyal_customers)\n",
        "\n",
        "# Tentukan warna untuk setiap label\n",
        "colors = ['cornflowerblue', 'limegreen']\n",
        "\n",
        "# Memvisualisasikan perbandingan jumlah pembelian antara anggota loyalty program dan bukan anggota loyalty program dengan pie chart\n",
        "plt.figure(figsize=(7, 7))\n",
        "plt.pie([data_non_loyal_counts, data_loyal_counts], labels=['Non-Members', 'Members'], colors=colors, autopct='%1.1f%%', startangle=140)\n",
        "plt.title('Perbandingan Loyalty Program Members dan Non-Members')\n",
        "plt.axis('equal')\n",
        "plt.show()"
      ]
    },
    {
      "cell_type": "code",
      "execution_count": null,
      "metadata": {
        "id": "oaP2TWNeDZ2V",
        "outputId": "e5aee843-ee9b-4922-cd36-487b5ea42e45"
      },
      "outputs": [
        {
          "name": "stdout",
          "output_type": "stream",
          "text": [
            "\u001b[1mRata-rata pembelian pelanggan anggota loyalty program :\u001b[0m 9.994016326879514\n",
            "\u001b[1mRata-rata pembelian pelanggan non-anggota loyalty program :\u001b[0m 14.246231953038237\n"
          ]
        }
      ],
      "source": [
        "# Menghitung rata-rata pembelian pelanggan anggota loyalty program dan bukan anggota loyalty program\n",
        "data_loyalty_customers_mean_purchase = data_loyal_customers['quantity'].mean()\n",
        "print(\"\\033[1mRata-rata pembelian pelanggan anggota loyalty program :\\033[0m\", data_loyalty_customers_mean_purchase)\n",
        "data_non_loyalty_customers_mean_purchase = data_non_loyal_customers['quantity'].mean()\n",
        "print(\"\\033[1mRata-rata pembelian pelanggan non-anggota loyalty program :\\033[0m\", data_non_loyalty_customers_mean_purchase)"
      ]
    },
    {
      "cell_type": "markdown",
      "metadata": {
        "id": "ZcE7U0cSDZ2W"
      },
      "source": [
        "**<font color=\"green\">Kesimpulan sementara</font>**\n",
        "\n",
        "- Jumlah `anggota loyalty program` memiliki jumlah yang lebih sedikit dibanding `bukan anggota loyalty program`."
      ]
    },
    {
      "cell_type": "markdown",
      "metadata": {
        "id": "XlO1BF41DZ2W"
      },
      "source": [
        "   #### Melakukan uji statistik, seperti uji t atau uji Mann-Whitney (depend on data distribution), untuk membandingkan rata-rata pembelian\n",
        "    Melakukan uji statistik, seperti uji t atau uji Mann-Whitney untuk membandingkan rata-rata pembelian."
      ]
    },
    {
      "cell_type": "code",
      "execution_count": null,
      "metadata": {
        "id": "zvWvDNFTDZ2W",
        "outputId": "f915b4bf-74b9-497f-c38b-0422ee01aa10"
      },
      "outputs": [
        {
          "name": "stdout",
          "output_type": "stream",
          "text": [
            "\u001b[1mHasil Uji t (Data Terdistribusi Normal):\u001b[0m\n",
            "\u001b[1mNilai t-statistic:\u001b[0m -2.4528737922414336\n",
            "\u001b[1mNilai p:\u001b[0m 0.01417553479031676\n",
            "\u001b[1mKesimpulan:\u001b[0m Tolak H0, Ada perbedaan signifikan dalam rata-rata pembelian antara anggota loyalty program dan bukan anggota loyalty program.\n"
          ]
        }
      ],
      "source": [
        "# Memisahkan data pembelian antara anggota loyalty program dan bukan anggota loyalty program\n",
        "data_loyal_customers = data_retail_cleaned[data_retail_cleaned['loyalty_program'] == 1]['quantity']\n",
        "data_non_loyal_customers = data_retail_cleaned[data_retail_cleaned['loyalty_program'] == 0]['quantity']\n",
        "\n",
        "# Meakukan uji t untuk membandingkan rata-rata pembelian\n",
        "t_statistic, p_value = st.ttest_ind(data_loyal_customers, data_non_loyal_customers, equal_var=False)\n",
        "\n",
        "# Menampilkan hasil uji statistik\n",
        "print(\"\\033[1mHasil Uji t (Data Terdistribusi Normal):\\033[0m\")\n",
        "print(\"\\033[1mNilai t-statistic:\\033[0m\", t_statistic)\n",
        "print(\"\\033[1mNilai p:\\033[0m\", p_value)\n",
        "\n",
        "# Mengambil keputusan berdasarkan nilai p\n",
        "alpha = 0.05\n",
        "if p_value < alpha:\n",
        "    print(\"\\033[1mKesimpulan:\\033[0m Tolak H0, Ada perbedaan signifikan dalam rata-rata pembelian antara anggota loyalty program dan bukan anggota loyalty program.\")\n",
        "else:\n",
        "    print(\"\\033[1mKesimpulan:\\033[0m Tidak cukup bukti untuk menolak H0, Tidak ada perbedaan signifikan dalam rata-rata pembelian antara kedua kelompok.\")"
      ]
    },
    {
      "cell_type": "code",
      "execution_count": null,
      "metadata": {
        "id": "8caMQMjwDZ2X",
        "outputId": "d6c033fe-7e74-4e7e-d1b8-deca8752208c"
      },
      "outputs": [
        {
          "name": "stdout",
          "output_type": "stream",
          "text": [
            "\u001b[1mHasil Uji Mann-Whitney (Data Tidak Terdistribusi Normal):\u001b[0m\n",
            "\u001b[1mNilai U-statistic:\u001b[0m 426437229.5\n",
            "\u001b[1mNilai p:\u001b[0m 3.4078647742896497e-308\n",
            "\u001b[1mKesimpulan:\u001b[0m Tolak H0, Ada perbedaan signifikan dalam rata-rata pembelian antara anggota loyalty program dan bukan anggota loyalty program.\n"
          ]
        }
      ],
      "source": [
        "# Melakukan uji Mann-Whitney untuk membandingkan rata-rata pembelian\n",
        "u_statistic, p_value = st.mannwhitneyu(data_loyal_customers, data_non_loyal_customers)\n",
        "\n",
        "# Menampilkan hasil uji statistik\n",
        "print(\"\\033[1mHasil Uji Mann-Whitney (Data Tidak Terdistribusi Normal):\\033[0m\")\n",
        "print(\"\\033[1mNilai U-statistic:\\033[0m\", u_statistic)\n",
        "print(\"\\033[1mNilai p:\\033[0m\", p_value)\n",
        "\n",
        "# Mengambil keputusan berdasarkan nilai p\n",
        "alpha = 0.05\n",
        "if p_value < alpha:\n",
        "    print(\"\\033[1mKesimpulan:\\033[0m Tolak H0, Ada perbedaan signifikan dalam rata-rata pembelian antara anggota loyalty program dan bukan anggota loyalty program.\")\n",
        "else:\n",
        "    print(\"\\033[1mKesimpulan:\\033[0m Tidak cukup bukti untuk menolak H0, Tidak ada perbedaan signifikan dalam rata-rata pembelian antara kedua kelompok.\")"
      ]
    },
    {
      "cell_type": "markdown",
      "metadata": {
        "id": "5TWlJ0pRDZ2Y"
      },
      "source": [
        "**<font color=\"green\">Kesimpulan sementara</font>**\n",
        "\n",
        "- **Uji t**\n",
        "\n",
        "   - Karena nilai **`p (0.014)`** lebih kecil dari tingkat signifikansi yang umumnya digunakan (**`umumnya α = 0.05`**), kita memiliki cukup bukti untuk menolak hipotesis nol. **Artinya, kita dapat menyimpulkan bahwa ada perbedaan signifikan dalam rata-rata pembelian antara anggota program loyalitas dan bukan anggota**. Dengan kata lain, pelanggan yang menjadi anggota loyalty program memiliki rata-rata pembelian yang berbeda secara signifikan dari pelanggan yang bukan anggota loyalty program.\n",
        "   \n",
        "- **Uji Mann-Whitney**\n",
        "\n",
        "   - Karena nilai **`p`** sangat kecil, kita memiliki cukup bukti untuk menolak hipotesis nol. **Artinya, kita dapat menyimpulkan bahwa ada perbedaan signifikan dalam rata-rata pembelian antara anggota loyalty program dan bukan anggota**. Dengan kata lain, pelanggan yang menjadi anggota loyalty program cenderung memiliki rata-rata pembelian yang berbeda secara signifikan dari pelanggan yang bukan anggota loyalty program."
      ]
    },
    {
      "cell_type": "markdown",
      "metadata": {
        "id": "UKvIgS3NDZ2Y"
      },
      "source": [
        "   #### Menganalisa hasil dan menentukan apakah ada perbedaan yang substansial\n",
        "    Menentukan hasil analisis terhadap perbedaan substansial."
      ]
    },
    {
      "cell_type": "markdown",
      "metadata": {
        "id": "FfRVgEjnDZ2Z"
      },
      "source": [
        "- **`(Uji t dan Mann-Whitney)`**\n",
        "\n",
        "1. `Berdasarkan analisis hasil (Uji t dan Mann-Whitney)`, kita dapat menyimpulkan bahwa ada perbedaan yang signifikan dalam rata-rata pembelian antara anggota program loyalitas dan bukan anggota. **Pelanggan yang bukan menjadi anggota loyalty program cenderung memiliki rata-rata pembelian yang lebih tinggi dibandingkan dengan pelanggan yang memiliki anggota loyalty program**.\n",
        "\n",
        "\n",
        "2. Dengan demikian, hasil analisis menunjukkan **pentingnya loyalty program dalam meningkatkan jumlah pembelian pelanggan, serta memberikan informasi yang berharga bagi manajemen dalam mengembangkan strategi pemasaran dan loyalty program yang lebih efektif**."
      ]
    },
    {
      "cell_type": "markdown",
      "metadata": {
        "id": "xJ_K-6QgDZ2Z"
      },
      "source": [
        "### Memformulasikan dan Menguji Hipotesis Statistik\n",
        "    Selanjutnya mari kita melakukan perumusan dan pengujian hipotesis statistik.\n",
        "     \n",
        "   #### Mengidentifikasi variabel yang akan diuji dan mengasumsikan yang mendasarinya\n",
        "    Menentukan dan mengidentifkasikan variable yang akan diuji."
      ]
    },
    {
      "cell_type": "markdown",
      "metadata": {
        "id": "ZVdTaR6SDZ2Z"
      },
      "source": [
        "**<font color=\"green\">Kesimpulan sementara</font>**\n",
        "\n",
        "- **1. Variable yang akan diuji:**\n",
        "\n",
        "   - Rata-rata Pembelian (`quantity`): Variabel ini mengukur seberapa besar jumlah barang yang dibeli oleh pelanggan. Kita telah melakukan uji hipotesis terkait rata-rata pembelian antara anggota loyalty program dan bukan anggota loyalty program.\n",
        "   \n",
        "\n",
        "- **2. Asumsi-asumsi yang Mendasarinya:**\n",
        "\n",
        "   - Normalitas Distribusi: Untuk menggunakan uji t, kita perlu mengasumsikan bahwa data terdistribusi normal. Oleh karena itu, kita dapat melakukan uji normalitas terhadap variabel rata-rata pembelian untuk setiap kelompok.\n",
        "   - Homogenitas Varians: Untuk menggunakan uji t, kita juga perlu mengasumsikan homogenitas varians, yaitu varians dari kedua kelompok sebanding. Ini dapat diuji menggunakan uji statistik yang sesuai.\n",
        "   - Independensi Data: Kita mengasumsikan bahwa data diambil secara independen dari satu sama lain. Hal ini seharusnya terpenuhi dalam konteks pembelian pelanggan yang berbeda.\n",
        "   \n",
        "\n",
        "- **3. Pengukuran:**\n",
        "\n",
        "   - Jika data bersifat kategorikal (misalnya, `loyal_program`), kita harus memastikan bahwa pengukuran bersifat ordinal atau nominal.\n",
        "   - Jika data bersifat numerik (misalnya, `quantity`), kita harus memastikan bahwa pengukuran bersifat interval atau rasio."
      ]
    },
    {
      "cell_type": "markdown",
      "metadata": {
        "id": "2g_i7EkeDZ2Z"
      },
      "source": [
        " #### Menyusun hipotesis nol (H0) dan hipotesis alternatif (H1)\n",
        "    Disini kita akan menguraikan H0 dan H1"
      ]
    },
    {
      "cell_type": "markdown",
      "metadata": {
        "id": "wQU4jz3mDZ2a"
      },
      "source": [
        "**<font color=\"green\">Kesimpulan sementara</font>**\n",
        "\n",
        "- **1. Variable Independen**\n",
        "\n",
        "   - Variabel Independen: Keanggotaan dalam loyalty program (anggota loyalty program atau bukan anggota loyalty program).\n",
        "   \n",
        "\n",
        "- **2. Variabel Dependan**\n",
        "\n",
        "   - Variabel Dependan: Jumlah pembelian atau nilai pembelian yang dilakukan oleh pelanggan.\n",
        "\n",
        "\n",
        "- **3. Hipotesis Nol (H0)**\n",
        "\n",
        "   - Hipotesis nol (H0) adalah pernyataan bahwa tidak ada perbedaan atau tidak ada hubungan antara variabel independen dan variabel dependen.\n",
        "   - H0: Tidak ada perbedaan signifikan dalam jumlah pembelian antara anggota loyalty program dan bukan anggota loyalty program.\n",
        "   \n",
        "   \n",
        "- **4. Hipotesis Alternatif (H1)**\n",
        "\n",
        "   - Hipotesis alternatif (H1) adalah pernyataan bahwa ada perbedaan atau ada hubungan antara variabel independen dan variabel dependen.\n",
        "   - H1: Ada perbedaan signifikan dalam jumlah pembelian antara anggota loyalty program dan bukan anggota loyalty program."
      ]
    },
    {
      "cell_type": "markdown",
      "metadata": {
        "id": "MYTDg1GVDZ2a"
      },
      "source": [
        " #### Memilih tingkat signifikansi (umumnya 0,05)\n",
        "    Menentukan nilai alpha pada hipotesis yang akan dikerjakan."
      ]
    },
    {
      "cell_type": "markdown",
      "metadata": {
        "id": "8qI8zj2GDZ2a"
      },
      "source": [
        "**<font color=\"green\">Kesimpulan sementara</font>**\n",
        "\n",
        "- Biasanya, tingkat signifikansi yang umum digunakan adalah 0.05 atau 5%. Ini berarti kita bersedia untuk menerima risiko 5% untuk membuat kesalahan tipe I, atau dalam kata lain, kita akan menolak hipotesis nol jika ada kemungkinan kurang dari 5% bahwa hasil yang diamati terjadi karena kebetulan."
      ]
    },
    {
      "cell_type": "markdown",
      "metadata": {
        "id": "nKpFCho0DZ2a"
      },
      "source": [
        " #### Mengunakan uji statistik yang sesuai untuk data\n",
        "    Menentukan uji statistik untuk data yang tersedia."
      ]
    },
    {
      "cell_type": "markdown",
      "metadata": {
        "id": "8_I5V7PMDZ2a"
      },
      "source": [
        "**<font color=\"green\">Kesimpulan sementara</font>**\n",
        "\n",
        "- Uji yang cocok untuk penelitian yang sedang kita lakukan adalah `uji t independen`. Dengan menggunakan uji t independen, kita dapat menguji apakah ada perbedaan signifikan dalam rata-rata pembelian antara anggota loyalty program dan bukan anggota loyalty program."
      ]
    },
    {
      "cell_type": "markdown",
      "metadata": {
        "id": "osNhblHoDZ2b"
      },
      "source": [
        " #### Menganalisis hasil dan mengambil keputusan apakah menerima atau menolak H0\n",
        "    Kita menggunakan `ttest independen` untuk mengambil keputusan."
      ]
    },
    {
      "cell_type": "code",
      "execution_count": null,
      "metadata": {
        "id": "lFHU-FIvDZ2b",
        "outputId": "aa24b023-f6b9-489f-a7b8-dfe4f71d1420"
      },
      "outputs": [
        {
          "name": "stdout",
          "output_type": "stream",
          "text": [
            "\u001b[1mNilai t-statistic:\u001b[0m -1.8147334164150335\n",
            "\u001b[1mNilai p:\u001b[0m 0.06956932269705385\n",
            "\u001b[1mKesimpulan\u001b[0m: Gagal menolak H0, Tidak terdapat perbedaan signifikan dalam rata-rata pembelian antara kedua kelompok.\n"
          ]
        }
      ],
      "source": [
        "# Memisahkan data pembelian antara anggota program loyalitas dan bukan anggota\n",
        "data_purchases_loyal = data_retail_cleaned[data_retail_cleaned['loyalty_program'] == 1]['quantity']\n",
        "data_purchases_non_loyal = data_retail_cleaned[data_retail_cleaned['loyalty_program'] == 0]['quantity']\n",
        "\n",
        "# Melakukan uji t independen\n",
        "t_statistic, p_value = ttest_ind(data_purchases_loyal, data_purchases_non_loyal)\n",
        "\n",
        "# Menampilkan hasil uji statistik\n",
        "print(\"\\033[1mNilai t-statistic:\\033[0m\", t_statistic)\n",
        "print(\"\\033[1mNilai p:\\033[0m\", p_value)\n",
        "\n",
        "# Menentukan keputusan\n",
        "alpha = 0.05\n",
        "if p_value < alpha:\n",
        "    print(\"\\033[1mKesimpulan\\033[0m: Tolak H0, Ada perbedaan signifikan dalam rata-rata pembelian antara anggota program loyalitas dan bukan anggota program loyalitas.\")\n",
        "else:\n",
        "    print(\"\\033[1mKesimpulan\\033[0m: Gagal menolak H0, Tidak terdapat perbedaan signifikan dalam rata-rata pembelian antara kedua kelompok.\")"
      ]
    },
    {
      "cell_type": "markdown",
      "metadata": {
        "id": "UZaKbH9FDZ2c"
      },
      "source": [
        "**<font color=\"green\">Kesimpulan sementara</font>**\n",
        "\n",
        "1. Berdasarkan nilai p yang diperoleh dari uji `t independen`, yaitu sebesar `0.06956932269705385`, nilai tersebut lebih besar dari tingkat signifikansi yang umumnya dipilih (biasanya 0.05). Oleh karena itu, kita gagal menolak H0.\n",
        "\n",
        "2. Kesimpulan yang dapat diambil adalah **bahwa tidak terdapat perbedaan signifikan dalam rata-rata pembelian antara anggota loyalty program dan bukan anggota loyalty program. Dengan kata lain, kita tidak memiliki cukup bukti statistik untuk menyatakan bahwa ada perbedaan yang signifikan dalam jumlah pembelian antara kedua kelompok tersebut.**"
      ]
    },
    {
      "cell_type": "markdown",
      "metadata": {
        "id": "z_cGVVVmDZ2c"
      },
      "source": [
        "### Merumuskan Kesimpulan dan Rekomendasi\n",
        "    Apa saja yang kita dapat dari distribusi tersebut?\n",
        "     \n",
        "   #### Meninjau hasil dari uji hipotesis dan analisis data lainnya\n",
        "    Dari hipotesis yang telah dilakukan yang sekarang dengan sebelumnya, hal apa yang bisa didapat?"
      ]
    },
    {
      "cell_type": "markdown",
      "metadata": {
        "id": "t55OzXQzDZ2d"
      },
      "source": [
        "**<font color=\"green\">Kesimpulan sementara</font>**\n",
        "\n",
        "1. Hasil `Uji t` (Data Terdistribusi Normal) dan Hasil `Uji Mann-Whitney` (Data Tidak Terdistribusi Normal) menunjukkan kesimpulan yang serupa, yaitu kedua uji hipotesis menolak H0. Artinya, ada perbedaan signifikan dalam rata-rata pembelian antara anggota loyalty program. dan bukan anggota loyalty program.\n",
        "\n",
        "2. Namun, hasil `Uji t independen` menunjukkan kesimpulan yang berbeda, yaitu gagal menolak H0. Ini berarti tidak terdapat perbedaan signifikan dalam rata-rata pembelian antara kedua kelompok.\n",
        "\n",
        "3. Sebagai hasilnya, kesimpulan dari `t-test independen` adalah gagal menolak H0, yang berarti tidak terdapat perbedaan signifikan dalam rata-rata pembelian antara anggota loyalty program dan bukan anggota loyalty program. **Namun, kesimpulan ini mungkin tidak akurat karena asumsi distribusi normal tidak terpenuhi.**"
      ]
    },
    {
      "cell_type": "markdown",
      "metadata": {
        "id": "p9BL-P9RDZ2d"
      },
      "source": [
        "   #### Memastikan terhadap temuan tersebut apakah konsisten dengan hipotesis atau tidak\n",
        "    Memastikan apakah ada konsistensi hipotesis?"
      ]
    },
    {
      "cell_type": "markdown",
      "metadata": {
        "id": "il_CoC4zDZ2d"
      },
      "source": [
        "**<font color=\"green\">Kesimpulan sementara</font>**\n",
        "\n",
        "1. Temuan dari `uji Mann-Whitney`, yang menunjukkan adanya perbedaan signifikan dalam rata-rata pembelian antara anggota loyalty program dan bukan anggota loyalty program, konsisten dengan hipotesis alternatif yang diajukan. Hipotesis alternatif menyatakan bahwa ada perbedaan atau hubungan antara variabel independen (keanggotaan dalam loyalty program) dan variabel dependen (jumlah pembelian).\n",
        "\n",
        "\n",
        "2. Ya, temuan kita konsisten dengan hipotesis. Hipotesis yang diajukan adalah bahwa ada perbedaan signifikan dalam rata-rata pembelian antara anggota loyalty program dan bukan anggota loyalty program. Hasil `uji Mann-Whitney` menunjukkan adanya perbedaan signifikan tersebut, sehingga temuan kita sesuai dengan hipotesis yang diajukan."
      ]
    },
    {
      "cell_type": "markdown",
      "metadata": {
        "id": "lMv9-R_SDZ2d"
      },
      "source": [
        "   #### Menjelaskan keterkaitan serta arti dari temuan tersebut\n",
        "    Dari hasil analisis yang sudah kita lakukan, apa yang dapat diartikan dari temuan yang kita analisis?"
      ]
    },
    {
      "cell_type": "markdown",
      "metadata": {
        "id": "dV8D1obZDZ2d"
      },
      "source": [
        "**<font color=\"green\">Kesimpulan sementara</font>**\n",
        "\n",
        "1. **Keefektifan Program Loyalitas:**\n",
        "\n",
        "    - Temuan ini menunjukkan bahwa program `non-loyalitas` memiliki dampak yang signifikan terhadap perilaku pembelian pelanggan. Hal ini mengindikasikan bahwa pelanggan yang tidak menjadi anggota loyalty program cenderung melakukan pembelian dengan nilai yang lebih tinggi dibandingkan dengan pelanggan yang menjadi anggota loyalty program.\n",
        "\n",
        "\n",
        "2. **Strategi Pemasaran dan Retensi Pelanggan:**\n",
        "\n",
        "    - Informasi ini dapat digunakan oleh perusahaan untuk menilai efektivitas program loyalitas mereka dan untuk mengidentifikasi pelanggan yang berpotensi menjadi anggota loyalty program. Hal ini dapat membantu dalam merancang strategi pemasaran yang lebih efektif dan program retensi pelanggan untuk meningkatkan loyalitas pelanggan dan meningkatkan penjualan.\n",
        "\n",
        "\n",
        "3. **Penyesuaian Loyalty Program:**\n",
        "\n",
        "    - Temuan ini juga dapat membantu perusahaan dalam melakukan penyesuaian pada program loyalitas mereka, seperti menawarkan insentif yang lebih menarik atau meningkatkan manfaat yang diberikan kepada anggota program loyalitas untuk lebih menarik pelanggan dan mendorong mereka untuk melakukan pembelian lebih banyak."
      ]
    },
    {
      "cell_type": "markdown",
      "metadata": {
        "id": "wJWRGXPZDZ2e"
      },
      "source": [
        "## Kesimpulan Umum dan Saran (Rekomendasi)\n",
        "\n",
        "   1. **Optimalkan Program Loyalitas:**\n",
        "       - Berdasarkan temuan bahwa anggota non-loyalty program cenderung melakukan pembelian dengan nilai yang lebih tinggi, disarankan untuk terus mengoptimalkan loyalty program dengan menawarkan insentif yang relevan dan menarik bagi pelanggan. Ini dapat mencakup diskon eksklusif, hadiah, atau manfaat lainnya yang memotivasi pelanggan untuk melakukan pembelian lebih banyak.\n",
        "\n",
        "\n",
        "   2. **Segmentasi Pelanggan:**\n",
        "       - Perusahaan dapat memanfaatkan informasi tentang perilaku pembelian anggota loyalty program dan non-loyalty program untuk melakukan segmentasi pelanggan yang lebih efektif. Dengan memahami preferensi dan kebiasaan belanja masing-masing kelompok, perusahaan dapat merancang strategi pemasaran yang lebih tepat sasaran dan menyesuaikan penawaran produk atau layanan.\n",
        "\n",
        "\n",
        "   3. **Peningkatan Pengalaman Pelanggan:**\n",
        "       - Penting untuk terus meningkatkan pengalaman pelanggan secara keseluruhan, baik bagi anggota loyalty program maupun pelanggan biasa. Pengalaman pelanggan yang positif dapat meningkatkan loyalitas, meningkatkan retensi pelanggan, dan menghasilkan rekomendasi dari mulut ke mulut yang berharga.\n",
        "       \n",
        "       \n",
        "   4. **Penelitian Lebih Lanjut:**\n",
        "       - Kita tidak menggunakan `product_code` sama sekali karena penelitian temuan ini sangat berfokus kepada program yang ditawarkan, oleh sebab itu kita tidak memasukan ke dalam tahap ini untuk relevansi data. Temuan ini dapat menjadi titik awal untuk penelitian lebih lanjut tentang faktor-faktor yang mempengaruhi perilaku pembelian pelanggan. Penelitian lebih lanjut dapat dilakukan untuk memahami secara lebih mendalam mengapa anggota non-loyalty program cenderung melakukan pembelian dengan nilai yang lebih tinggi dan bagaimana perusahaan dapat memanfaatkan informasi ini untuk meningkatkan kinerja bisnis mereka."
      ]
    },
    {
      "cell_type": "markdown",
      "metadata": {
        "id": "XaCKGk2VDZ2e"
      },
      "source": [
        "# Presentasi\n",
        "\n",
        "link drive google : https://drive.google.com/file/d/1HfR0kII1eujlsVD6drNGoSH2iYJ_LsJI/view?usp=sharing\n",
        "\n",
        "link tableau Public : https://public.tableau.com/app/profile/priyanto.setiadi/viz/DashboardPembelianHarianLoyaltyProgram/DashboardforLoyaltyProgram?publish=yes"
      ]
    },
    {
      "cell_type": "code",
      "execution_count": null,
      "metadata": {
        "id": "mWa1t_O1DZ2e"
      },
      "outputs": [],
      "source": []
    }
  ],
  "metadata": {
    "kernelspec": {
      "display_name": "Python 3 (ipykernel)",
      "language": "python",
      "name": "python3"
    },
    "language_info": {
      "codemirror_mode": {
        "name": "ipython",
        "version": 3
      },
      "file_extension": ".py",
      "mimetype": "text/x-python",
      "name": "python",
      "nbconvert_exporter": "python",
      "pygments_lexer": "ipython3",
      "version": "3.9.19"
    },
    "toc": {
      "base_numbering": 1,
      "nav_menu": {},
      "number_sections": true,
      "sideBar": true,
      "skip_h1_title": true,
      "title_cell": "Table of Contents",
      "title_sidebar": "Contents",
      "toc_cell": false,
      "toc_position": {},
      "toc_section_display": true,
      "toc_window_display": false
    },
    "colab": {
      "provenance": []
    }
  },
  "nbformat": 4,
  "nbformat_minor": 0
}